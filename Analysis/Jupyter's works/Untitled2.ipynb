{
 "cells": [
  {
   "cell_type": "code",
   "execution_count": 1,
   "metadata": {},
   "outputs": [],
   "source": [
    "# Useful additional packages \n",
    "import matplotlib.pyplot as plt\n",
    "%matplotlib inline\n",
    "import numpy as np\n",
    "from math import pi\n",
    "\n",
    "from qiskit import QuantumCircuit, ClassicalRegister, QuantumRegister\n",
    "from qiskit import BasicAer, execute\n",
    "from qiskit.quantum_info import Pauli, state_fidelity, basis_state, process_fidelity "
   ]
  },
  {
   "cell_type": "code",
   "execution_count": 3,
   "metadata": {},
   "outputs": [],
   "source": [
    "q = QuantumRegister(6, 'q')"
   ]
  },
  {
   "cell_type": "code",
   "execution_count": 6,
   "metadata": {},
   "outputs": [
    {
     "data": {
      "text/html": [
       "<pre style=\"word-wrap: normal;white-space: pre;line-height: 15px;\">        ┌───┐                                                  ┌───┐\n",
       "q_0: |0>┤ H ├──■────────────────────────────────────────────■──┤ H ├\n",
       "        └───┘┌─┴─┐                                        ┌─┴─┐└───┘\n",
       "q_1: |0>─────┤ X ├──■──────────────────────────────────■──┤ X ├─────\n",
       "             └───┘┌─┴─┐                              ┌─┴─┐└───┘     \n",
       "q_2: |0>──────────┤ X ├──■────────────────────────■──┤ X ├──────────\n",
       "                  └───┘┌─┴─┐                    ┌─┴─┐└───┘          \n",
       "q_3: |0>───────────────┤ X ├──■──────────────■──┤ X ├───────────────\n",
       "                       └───┘┌─┴─┐          ┌─┴─┐└───┘               \n",
       "q_4: |0>────────────────────┤ X ├──■────■──┤ X ├────────────────────\n",
       "                            └───┘┌─┴─┐┌─┴─┐└───┘                    \n",
       "q_5: |0>─────────────────────────┤ X ├┤ X ├─────────────────────────\n",
       "                                 └───┘└───┘                         </pre>"
      ],
      "text/plain": [
       "<qiskit.visualization.text.TextDrawing at 0x126632940>"
      ]
     },
     "execution_count": 6,
     "metadata": {},
     "output_type": "execute_result"
    }
   ],
   "source": [
    "circ = QuantumCircuit(q)\n",
    "\n",
    "circ.h(q[0])\n",
    "circ.cx(q[0], q[1])\n",
    "circ.cx(q[1], q[2])\n",
    "circ.cx(q[2], q[3])\n",
    "circ.cx(q[3], q[4])\n",
    "circ.cx(q[4], q[5])\n",
    "\n",
    "\n",
    "circ.cx(q[4], q[5])\n",
    "circ.cx(q[3], q[4])\n",
    "circ.cx(q[2], q[3])\n",
    "circ.cx(q[1], q[2])\n",
    "circ.cx(q[0], q[1])\n",
    "\n",
    "circ.h(q[0])\n",
    "\n",
    "circ.draw()"
   ]
  },
  {
   "cell_type": "code",
   "execution_count": null,
   "metadata": {},
   "outputs": [],
   "source": []
  }
 ],
 "metadata": {
  "kernelspec": {
   "display_name": "Python (Qiskitenv)",
   "language": "python",
   "name": "qiskitenv"
  },
  "language_info": {
   "codemirror_mode": {
    "name": "ipython",
    "version": 3
   },
   "file_extension": ".py",
   "mimetype": "text/x-python",
   "name": "python",
   "nbconvert_exporter": "python",
   "pygments_lexer": "ipython3",
   "version": "3.6.0"
  }
 },
 "nbformat": 4,
 "nbformat_minor": 2
}
