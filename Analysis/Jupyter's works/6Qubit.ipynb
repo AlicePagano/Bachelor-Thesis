{
 "cells": [
  {
   "cell_type": "code",
   "execution_count": 1,
   "metadata": {},
   "outputs": [],
   "source": [
    "# Useful additional packages \n",
    "import matplotlib.pyplot as plt\n",
    "%matplotlib inline\n",
    "import numpy as np\n",
    "from math import pi\n",
    "\n",
    "from qiskit import QuantumCircuit, ClassicalRegister, QuantumRegister\n",
    "from qiskit import BasicAer, execute\n",
    "from qiskit.quantum_info import Pauli, state_fidelity, basis_state, process_fidelity \n",
    "\n",
    "from qiskit.circuit import Parameter"
   ]
  },
  {
   "cell_type": "code",
   "execution_count": 2,
   "metadata": {},
   "outputs": [
    {
     "name": "stdout",
     "output_type": "stream",
     "text": [
      "[0.0, 0.4487989505128276, 0.8975979010256552, 1.3463968515384828, 1.7951958020513104, 2.243994752564138, 2.6927937030769655, 3.141592653589793, 3.5903916041026207, 4.039190554615448, 4.487989505128276, 4.936788455641103, 5.385587406153931, 5.8343863566667595]\n"
     ]
    }
   ],
   "source": [
    "n=6\n",
    "q = QuantumRegister(n, 'q')\n",
    "c = ClassicalRegister(1, 'c') #n\n",
    "\n",
    "circ = QuantumCircuit(q,c)\n",
    "phi = Parameter('phi')\n",
    "\n",
    "circ.h(q[0])\n",
    "\n",
    "for i in range(n-1):\n",
    "    circ.cx(i, i+1)\n",
    "    \n",
    "circ.barrier()\n",
    "circ.rz(phi, range(n))\n",
    "circ.barrier()\n",
    "\n",
    "for i in reversed(range(n-1)):\n",
    "    circ.cx(i, i+1)\n",
    "\n",
    "circ.h(q[0])\n",
    "\n",
    "circ.barrier()\n",
    "\n",
    "#for i in range(n):\n",
    "#    circ.measure(q[i], c[i])\n",
    "    \n",
    "circ.measure(q[0], c[0])  \n",
    "\n",
    "#circ.draw(output='mpl')\n",
    "\n",
    "phi_range = [np.pi*j/(n+1) for j in range(2*n+1+1)]\n",
    "print(phi_range)\n",
    "circuits = [circ.bind_parameters({phi: phi_val}) for phi_val in phi_range] \n",
    "#print(circuits[3].parameters)\n",
    "#circuits[11].draw(output='mpl')\n",
    "\n",
    "job = execute(circ,\n",
    "            backend=BasicAer.get_backend('qasm_simulator'),\n",
    "            parameter_binds=[{phi: phi_val}\n",
    "              for phi_val in phi_range])\n",
    "\n",
    "phi_range6 = phi_range\n",
    "counts6 =[job.result().get_counts(i) for i in range(len(job.result().results))] \n",
    "\n",
    "#print(counts6)"
   ]
  },
  {
   "cell_type": "code",
   "execution_count": 3,
   "metadata": {},
   "outputs": [
    {
     "name": "stdout",
     "output_type": "stream",
     "text": [
      "[0.0, 0.3490658503988659, 0.6981317007977318, 1.0471975511965976, 1.3962634015954636, 1.7453292519943295, 2.0943951023931953, 2.443460952792061, 2.792526803190927, 3.141592653589793, 3.490658503988659, 3.8397243543875246, 4.1887902047863905, 4.537856055185257, 4.886921905584122, 5.235987755982988, 5.585053606381854, 5.934119456780721]\n"
     ]
    }
   ],
   "source": [
    "n=8\n",
    "q = QuantumRegister(n, 'q')\n",
    "c = ClassicalRegister(1, 'c') #n\n",
    "\n",
    "circ = QuantumCircuit(q,c)\n",
    "phi = Parameter('phi')\n",
    "\n",
    "circ.h(q[0])\n",
    "\n",
    "for i in range(n-1):\n",
    "    circ.cx(i, i+1)\n",
    "    \n",
    "circ.barrier()\n",
    "circ.rz(phi, range(n))\n",
    "circ.barrier()\n",
    "\n",
    "for i in reversed(range(n-1)):\n",
    "    circ.cx(i, i+1)\n",
    "\n",
    "circ.h(q[0])\n",
    "\n",
    "circ.barrier()\n",
    "\n",
    "#for i in range(n):\n",
    "#    circ.measure(q[i], c[i])\n",
    "    \n",
    "circ.measure(q[0], c[0])  \n",
    "\n",
    "circ.draw(output='mpl')\n",
    "\n",
    "phi_range = [np.pi*j/(n+1) for j in range(2*n+1+1)]\n",
    "print(phi_range)\n",
    "circuits = [circ.bind_parameters({phi: phi_val}) for phi_val in phi_range] \n",
    "#print(circuits[3].parameters)\n",
    "#circuits[11].draw(output='mpl')\n",
    "\n",
    "job = execute(circ,\n",
    "            backend=BasicAer.get_backend('qasm_simulator'),\n",
    "            parameter_binds=[{phi: phi_val}\n",
    "              for phi_val in phi_range])\n",
    "\n",
    "phi_range8 = phi_range\n",
    "counts8 =[job.result().get_counts(i) for i in range(len(job.result().results))] \n",
    "\n",
    "#print(counts8)"
   ]
  },
  {
   "cell_type": "code",
   "execution_count": 4,
   "metadata": {},
   "outputs": [
    {
     "name": "stdout",
     "output_type": "stream",
     "text": [
      "[0.0, 0.28559933214452665, 0.5711986642890533, 0.8567979964335799, 1.1423973285781066, 1.4279966607226333, 1.7135959928671598, 1.9991953250116865, 2.284794657156213, 2.5703939893007397, 2.8559933214452666, 3.1415926535897927, 3.4271919857343196, 3.7127913178788465, 3.998390650023373, 4.283989982167899, 4.569589314312426, 4.855188646456953, 5.140787978601479, 5.426387310746006, 5.711986642890533, 5.99758597503506]\n"
     ]
    }
   ],
   "source": [
    "n=10\n",
    "q = QuantumRegister(n, 'q')\n",
    "c = ClassicalRegister(1, 'c') #n\n",
    "\n",
    "circ = QuantumCircuit(q,c)\n",
    "phi = Parameter('phi')\n",
    "\n",
    "circ.h(q[0])\n",
    "\n",
    "for i in range(n-1):\n",
    "    circ.cx(i, i+1)\n",
    "    \n",
    "circ.barrier()\n",
    "circ.rz(phi, range(n))\n",
    "circ.barrier()\n",
    "\n",
    "for i in reversed(range(n-1)):\n",
    "    circ.cx(i, i+1)\n",
    "\n",
    "circ.h(q[0])\n",
    "\n",
    "circ.barrier()\n",
    "\n",
    "#for i in range(n):\n",
    "#    circ.measure(q[i], c[i])\n",
    "    \n",
    "circ.measure(q[0], c[0])  \n",
    "\n",
    "circ.draw(output='mpl')\n",
    "\n",
    "phi_range = [np.pi*j/(n+1) for j in range(2*n+1+1)]\n",
    "print(phi_range)\n",
    "circuits = [circ.bind_parameters({phi: phi_val}) for phi_val in phi_range] \n",
    "#print(circuits[3].parameters)\n",
    "#circuits[11].draw(output='mpl')\n",
    "\n",
    "job = execute(circ,\n",
    "            backend=BasicAer.get_backend('qasm_simulator'),\n",
    "            parameter_binds=[{phi: phi_val}\n",
    "              for phi_val in phi_range])\n",
    "\n",
    "phi_range10 = phi_range\n",
    "counts10 =[job.result().get_counts(i) for i in range(len(job.result().results))] \n",
    "\n",
    "#print(counts10)"
   ]
  },
  {
   "cell_type": "code",
   "execution_count": 9,
   "metadata": {},
   "outputs": [
    {
     "name": "stdout",
     "output_type": "stream",
     "text": [
      "[0.0, 0.241660973353061, 0.483321946706122, 0.7249829200591831, 0.966643893412244, 1.2083048667653051, 1.4499658401183662, 1.691626813471427, 1.933287786824488, 2.174948760177549, 2.4166097335306103, 2.6582707068836706, 2.8999316802367323, 3.1415926535897936, 3.383253626942854, 3.6249146002959147, 3.866575573648976, 4.108236547002037, 4.349897520355098, 4.591558493708159, 4.8332194670612205, 5.074880440414281, 5.316541413767341, 5.558202387120403, 5.799863360473465, 6.041524333826525]\n"
     ]
    }
   ],
   "source": [
    "n=12\n",
    "q = QuantumRegister(n, 'q')\n",
    "c = ClassicalRegister(1, 'c') #n\n",
    "\n",
    "circ = QuantumCircuit(q,c)\n",
    "phi = Parameter('phi')\n",
    "\n",
    "circ.h(q[0])\n",
    "\n",
    "for i in range(n-1):\n",
    "    circ.cx(i, i+1)\n",
    "    \n",
    "circ.barrier()\n",
    "circ.rz(phi, range(n))\n",
    "circ.barrier()\n",
    "\n",
    "for i in reversed(range(n-1)):\n",
    "    circ.cx(i, i+1)\n",
    "\n",
    "circ.h(q[0])\n",
    "\n",
    "circ.barrier()\n",
    "\n",
    "#for i in range(n):\n",
    "#    circ.measure(q[i], c[i])\n",
    "    \n",
    "circ.measure(q[0], c[0])  \n",
    "\n",
    "circ.draw(output='mpl')\n",
    "\n",
    "phi_range = [np.pi*j/(n+1) for j in range(2*n+1+1)]\n",
    "print(phi_range)\n",
    "circuits = [circ.bind_parameters({phi: phi_val}) for phi_val in phi_range] \n",
    "#print(circuits[3].parameters)\n",
    "#circuits[11].draw(output='mpl')\n",
    "\n",
    "job = execute(circ,\n",
    "            backend=BasicAer.get_backend('qasm_simulator'),\n",
    "            parameter_binds=[{phi: phi_val}\n",
    "              for phi_val in phi_range])\n",
    "\n",
    "phi_range12 = phi_range\n",
    "counts12 =[job.result().get_counts(i) for i in range(len(job.result().results))] \n",
    "\n",
    "#print(counts12)"
   ]
  },
  {
   "cell_type": "code",
   "execution_count": 11,
   "metadata": {},
   "outputs": [
    {
     "name": "stdout",
     "output_type": "stream",
     "text": [
      "[0.0, 0.20943951023931953, 0.41887902047863906, 0.6283185307179586, 0.8377580409572781, 1.0471975511965976, 1.2566370614359172, 1.4660765716752369, 1.6755160819145563, 1.8849555921538759, 2.0943951023931953, 2.3038346126325147, 2.5132741228718345, 2.7227136331111543, 2.9321531433504737, 3.1415926535897927, 3.3510321638291125, 3.5604716740684323, 3.7699111843077517, 3.979350694547071, 4.1887902047863905, 4.39822971502571, 4.607669225265029, 4.817108735504349, 5.026548245743669, 5.235987755982989, 5.445427266222309, 5.654866776461628, 5.8643062867009474, 6.073745796940267]\n"
     ]
    }
   ],
   "source": [
    "n=14\n",
    "q = QuantumRegister(n, 'q')\n",
    "c = ClassicalRegister(1, 'c') #n\n",
    "\n",
    "circ = QuantumCircuit(q,c)\n",
    "phi = Parameter('phi')\n",
    "\n",
    "circ.h(q[0])\n",
    "\n",
    "for i in range(n-1):\n",
    "    circ.cx(i, i+1)\n",
    "    \n",
    "circ.barrier()\n",
    "circ.rz(phi, range(n))\n",
    "circ.barrier()\n",
    "\n",
    "for i in reversed(range(n-1)):\n",
    "    circ.cx(i, i+1)\n",
    "\n",
    "circ.h(q[0])\n",
    "\n",
    "circ.barrier()\n",
    "\n",
    "#for i in range(n):\n",
    "#    circ.measure(q[i], c[i])\n",
    "    \n",
    "circ.measure(q[0], c[0])  \n",
    "\n",
    "circ.draw(output='mpl')\n",
    "\n",
    "phi_range = [np.pi*j/(n+1) for j in range(2*n+1+1)]\n",
    "print(phi_range)\n",
    "circuits = [circ.bind_parameters({phi: phi_val}) for phi_val in phi_range] \n",
    "#print(circuits[3].parameters)\n",
    "#circuits[11].draw(output='mpl')\n",
    "\n",
    "job = execute(circ,\n",
    "            backend=BasicAer.get_backend('qasm_simulator'),\n",
    "            parameter_binds=[{phi: phi_val}\n",
    "              for phi_val in phi_range])\n",
    "\n",
    "phi_range14 = phi_range\n",
    "counts14 =[job.result().get_counts(i) for i in range(len(job.result().results))] \n",
    "\n",
    "#print(counts12)"
   ]
  },
  {
   "cell_type": "code",
   "execution_count": 22,
   "metadata": {},
   "outputs": [
    {
     "data": {
      "image/png": "[encoded data removed]",
      "text/plain": [
       "<Figure size 432x288 with 1 Axes>"
      ]
     },
     "metadata": {},
     "output_type": "display_data"
    }
   ],
   "source": [
    "plt.style.use('ggplot')\n",
    "fig = plt.figure()\n",
    "ax = fig.add_subplot(111)\n",
    "\n",
    "ax.plot(phi_range6,list(map(lambda c: 100/1024*c.get('0',0), counts6)), '.',label='n=6')\n",
    "ax.plot(phi_range8,list(map(lambda c: 100/1024*c.get('0',0), counts8)), '.',label='n=8')\n",
    "ax.plot(phi_range10,list(map(lambda c: 100/1024*c.get('0',0), counts10)), '.',label='n=10')\n",
    "ax.plot(phi_range12,list(map(lambda c: 100/1024*c.get('0',0), counts12)), '.',label='n=12')\n",
    "ax.plot(phi_range12,list(map(lambda c: 100/1024*c.get('0',0), counts12)), '.',label='n=14')\n",
    "\n",
    "#ax.plot(phi_range,list(map(lambda c: c.get('1',0), counts)), '.-',label='1')\n",
    "\n",
    "ax.set_xticks([i*np.pi/2 for i in range(5)])\n",
    "ax.set_xticklabels(['0', r'$\\frac{\\pi}{2}$', r'$\\pi$',r'$\\frac{3\\pi}{2}$',r'$2 \\pi $'], fontsize=14)\n",
    "ax.set_xlabel('0')\n",
    "ax.legend()\n",
    "plt.show()"
   ]
  },
  {
   "cell_type": "code",
   "execution_count": null,
   "metadata": {},
   "outputs": [],
   "source": []
  }
 ],
 "metadata": {
  "kernelspec": {
   "display_name": "Python (Qiskitenv)",
   "language": "python",
   "name": "qiskitenv"
  },
  "language_info": {
   "codemirror_mode": {
    "name": "ipython",
    "version": 3
   },
   "file_extension": ".py",
   "mimetype": "text/x-python",
   "name": "python",
   "nbconvert_exporter": "python",
   "pygments_lexer": "ipython3",
   "version": "3.6.0"
  }
 },
 "nbformat": 4,
 "nbformat_minor": 2
}
