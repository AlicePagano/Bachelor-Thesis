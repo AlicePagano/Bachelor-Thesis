{
 "cells": [
  {
   "cell_type": "code",
   "execution_count": 36,
   "metadata": {},
   "outputs": [
    {
     "name": "stdout",
     "output_type": "stream",
     "text": [
      "[cirq.LineQubit(0), cirq.LineQubit(1), cirq.LineQubit(2)]\n"
     ]
    }
   ],
   "source": [
    "import cirq\n",
    "import numpy as np\n",
    "from math import pi\n",
    "#from collections import Counter\n",
    "import matplotlib.pyplot as plt\n",
    "#select the number of qubit and define LineQubits structure\n",
    "n = 3 \n",
    "qubits = cirq.LineQubit.range(n)\n",
    "print(qubits)"
   ]
  },
  {
   "cell_type": "code",
   "execution_count": 20,
   "metadata": {},
   "outputs": [],
   "source": [
    "#create the circuit\n",
    "def circuit():      \n",
    "    circuit = cirq.Circuit()            \n",
    "    circuit.append(cirq.H(qubits[0]))\n",
    "    for i in range(n-1):    \n",
    "        circuit.append(cirq.CNOT(qubits[i],qubits[i+1]))    \n",
    "    #measurement\n",
    "    circuit.append(cirq.measure(*qubits, key='x'))          \n",
    "    #draw the circuit\n",
    "    print(circuit)        \n",
    "    return circuit"
   ]
  },
  {
   "cell_type": "code",
   "execution_count": 38,
   "metadata": {},
   "outputs": [],
   "source": [
    "#select the simulator  and execute the circuit\n",
    "def simulation(circuit):           \n",
    "    simulator = cirq.Simulator()\n",
    "    results = simulator.run(circuit, repetitions=100)\n",
    "    h = results.histogram(key='x') \n",
    "    print(results)   \n",
    "\n",
    "    #print counter\n",
    "    print( h )\n",
    "            \n",
    "    #plot histogram\n",
    "    #labels, values = zip(*h.items())\n",
    "    #indexes = np.arange(len(labels))\n",
    "    #width = 1\n",
    "    #plt.bar(indexes, values, width)\n",
    "    #plt.xticks(indexes + width * 0.5, labels)\n",
    "    #plt.show()\n",
    "    \n",
    "    counts = cirq.plot_state_histogram(results)\n",
    "    print(\"counts =\", counts)"
   ]
  },
  {
   "cell_type": "code",
   "execution_count": 28,
   "metadata": {},
   "outputs": [],
   "source": [
    "#main function\n",
    "def main ():     \n",
    "    simulation(circuit())"
   ]
  },
  {
   "cell_type": "code",
   "execution_count": 42,
   "metadata": {},
   "outputs": [
    {
     "name": "stdout",
     "output_type": "stream",
     "text": [
      "0: ───H───@───────M('x')───\n",
      "          │       │\n",
      "1: ───────X───@───M────────\n",
      "              │   │\n",
      "2: ───────────X───M────────\n",
      "x=1011001110101011000111111111010000010101010100111000100010111101000101101110101100100100100101010101, 1011001110101011000111111111010000010101010100111000100010111101000101101110101100100100100101010101, 1011001110101011000111111111010000010101010100111000100010111101000101101110101100100100100101010101\n",
      "Counter({7: 52, 0: 48})\n"
     ]
    },
    {
     "data": {
      "image/png": "[encoded data removed]",
      "text/plain": [
       "<Figure size 432x288 with 1 Axes>"
      ]
     },
     "metadata": {
      "needs_background": "light"
     },
     "output_type": "display_data"
    },
    {
     "name": "stdout",
     "output_type": "stream",
     "text": [
      "counts = [48. 52.]\n"
     ]
    }
   ],
   "source": [
    "if __name__ == '__main__':\n",
    "    main()"
   ]
  },
  {
   "cell_type": "code",
   "execution_count": 59,
   "metadata": {},
   "outputs": [],
   "source": [
    "import cirq\n",
    "import numpy as np\n",
    "from math import pi\n",
    "import sympy"
   ]
  },
  {
   "cell_type": "code",
   "execution_count": 67,
   "metadata": {},
   "outputs": [
    {
     "name": "stdout",
     "output_type": "stream",
     "text": [
      "0: ───X^s───M('z')───\n"
     ]
    },
    {
     "data": {
      "image/png": "[encoded data removed]",
      "text/plain": [
       "<Figure size 432x288 with 1 Axes>"
      ]
     },
     "metadata": {
      "needs_background": "light"
     },
     "output_type": "display_data"
    }
   ],
   "source": [
    "#define LineQubits structure\n",
    "qubits = cirq.LineQubit.range(1)\n",
    "#create the circuit\n",
    "circuit = cirq.Circuit()\n",
    "# add a gate with a symbol which can take any value\n",
    "gate = cirq.X**sympy.Symbol('s')\n",
    "circuit.append(gate(qubits[0]))\n",
    "# add a measurement\n",
    "circuit.append(cirq.measure(qubits[0], key=\"z\"))\n",
    "# show the circuit diagram\n",
    "print(circuit)\n",
    "# get a param resolver\n",
    "resolver = cirq.ParamResolver({'s': np.pi / 4.0})\n",
    "# run the resolved circuit using the param resolver\n",
    "simulator = cirq.Simulator()\n",
    "results = simulator.run(circuit, resolver, repetitions=100)\n",
    "counts = cirq.plot_state_histogram(results)"
   ]
  },
  {
   "cell_type": "code",
   "execution_count": null,
   "metadata": {},
   "outputs": [],
   "source": []
  }
 ],
 "metadata": {
  "kernelspec": {
   "display_name": "Python 3",
   "language": "python",
   "name": "python3"
  },
  "language_info": {
   "codemirror_mode": {
    "name": "ipython",
    "version": 3
   },
   "file_extension": ".py",
   "mimetype": "text/x-python",
   "name": "python",
   "nbconvert_exporter": "python",
   "pygments_lexer": "ipython3",
   "version": "3.7.2"
  }
 },
 "nbformat": 4,
 "nbformat_minor": 2
}
