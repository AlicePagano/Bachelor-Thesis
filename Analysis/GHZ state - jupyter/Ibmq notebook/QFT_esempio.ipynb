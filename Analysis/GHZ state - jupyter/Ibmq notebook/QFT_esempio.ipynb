{
 "cells": [
  {
   "cell_type": "code",
   "execution_count": 1,
   "metadata": {},
   "outputs": [],
   "source": [
    "from qiskit import QuantumCircuit, ClassicalRegister, QuantumRegister\n",
    "from math import pi"
   ]
  },
  {
   "cell_type": "code",
   "execution_count": 2,
   "metadata": {},
   "outputs": [],
   "source": [
    "n = 3 \n",
    "q = QuantumRegister(n,'q')  \n",
    "c = ClassicalRegister(n,'c') \n",
    "circ = QuantumCircuit(q, c)\n",
    "\n",
    "circ.h(q[0])\n",
    "circ.barrier()\n",
    "circ.cu1(pi/2,q[1], q[0])\n",
    "circ.barrier()\n",
    "circ.cu1(pi/4,q[2], q[0])\n",
    "circ.barrier()\n",
    "circ.h(q[1])\n",
    "circ.barrier()\n",
    "circ.cu1(pi/2,q[2], q[1])\n",
    "circ.barrier()\n",
    "circ.h(q[2])\n",
    "circ.barrier()\n",
    "circ.swap(q[0],q[2])\n",
    "\n",
    "for i in range(n):\n",
    "    circ.measure(q[i], c[i])\n",
    "    circ.barrier()\n",
    "\n",
    "#circ.draw(output='mpl')\n",
    "\n",
    "# Draw the circuit without barriers\n",
    "#circ.draw(output='latex', plot_barriers=False,scale=0.5)\n",
    "\n",
    "# Print the latex source for the visualization\n",
    "#print(circ.draw(output='latex_source',plot_barriers=False))"
   ]
  },
  {
   "cell_type": "code",
   "execution_count": 12,
   "metadata": {},
   "outputs": [],
   "source": [
    "from qiskit import Aer, execute\n",
    "from qiskit.tools.visualization import plot_histogram, plot_state_city\n",
    "# Select the QasmSimulator from the Aer provider\n",
    "simulator = Aer.get_backend('qasm_simulator')\n",
    "# Execute and get counts\n",
    "result = execute(circ, simulator, shots=16000).result()\n",
    "counts = result.get_counts(circ)\n",
    "plt=plot_histogram(counts, title='QFT algorithm counts')\n",
    "plt.savefig('QFT_qasm_simulator.eps', format='eps', dpi=1000)"
   ]
  },
  {
   "cell_type": "code",
   "execution_count": null,
   "metadata": {},
   "outputs": [],
   "source": [
    "# Select the StatevectorSimulator from the Aer provider\n",
    "simulator = Aer.get_backend('statevector_simulator')\n",
    "\n",
    "# Execute and get counts\n",
    "result = execute(circ, simulator).result()\n",
    "statevector = result.get_statevector(circ)\n",
    "plt=plot_state_city(statevector, title='QFT algorithm state vector')\n",
    "plt.savefig('QFT_statevector_simulator.eps', format='eps', dpi=1000)"
   ]
  },
  {
   "cell_type": "code",
   "execution_count": null,
   "metadata": {},
   "outputs": [],
   "source": [
    "circ = QuantumCircuit(q, c)\n",
    "\n",
    "circ.h(q[0])\n",
    "circ.barrier()\n",
    "circ.cu1(pi/2,q[1], q[0])\n",
    "circ.barrier()\n",
    "circ.cu1(pi/4,q[2], q[0])\n",
    "circ.barrier()\n",
    "circ.h(q[1])\n",
    "circ.barrier()\n",
    "circ.cu1(pi/2,q[2], q[1])\n",
    "circ.barrier()\n",
    "circ.h(q[2])\n",
    "circ.barrier()\n",
    "circ.swap(q[0],q[2])\n",
    "\n",
    "    \n",
    "# Select the UnitarySimulator from the Aer provider\n",
    "simulator = Aer.get_backend('unitary_simulator')\n",
    "\n",
    "# Execute and get counts\n",
    "result = execute(circ, simulator).result()\n",
    "unitary = result.get_unitary(circ)\n",
    "print(\"Circuit unitary:\\n\", unitary)"
   ]
  },
  {
   "cell_type": "code",
   "execution_count": 8,
   "metadata": {},
   "outputs": [
    {
     "name": "stdout",
     "output_type": "stream",
     "text": [
      "Job Status: job has successfully run\n"
     ]
    }
   ],
   "source": [
    "from qiskit import *\n",
    "IBMQ.load_accounts(hub=None)\n",
    "from qiskit.tools.monitor import job_monitor, backend_monitor, backend_overview\n",
    "#from qiskit.providers.ibmq import least_busy\n",
    "\n",
    "#from qiskit.compiler import transpile\n",
    "from qiskit.visualization import plot_histogram\n",
    "from qiskit.tools.monitor import job_monitor\n",
    "from qiskit import IBMQ\n",
    "\n",
    "\n",
    "job = execute(circ,\n",
    "            backend=IBMQ.get_backend('ibmq_16_melbourne'))\n",
    "\n",
    "job_monitor(job)\n",
    "\n",
    "result = job.result()\n",
    "counts = result.get_counts(circ)\n",
    "plt=plot_histogram(counts, title='QFT algorithm counts')\n",
    "plt.savefig('QFT_qasm_simulator.eps', format='eps', dpi=1000)"
   ]
  },
  {
   "cell_type": "code",
   "execution_count": null,
   "metadata": {},
   "outputs": [],
   "source": []
  }
 ],
 "metadata": {
  "kernelspec": {
   "display_name": "Python (Qiskitenv)",
   "language": "python",
   "name": "qiskitenv"
  },
  "language_info": {
   "codemirror_mode": {
    "name": "ipython",
    "version": 3
   },
   "file_extension": ".py",
   "mimetype": "text/x-python",
   "name": "python",
   "nbconvert_exporter": "python",
   "pygments_lexer": "ipython3",
   "version": "3.6.0"
  }
 },
 "nbformat": 4,
 "nbformat_minor": 2
}
