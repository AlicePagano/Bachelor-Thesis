{
 "cells": [
  {
   "cell_type": "code",
   "execution_count": 2,
   "metadata": {},
   "outputs": [],
   "source": [
    "# Useful additional packages \n",
    "import matplotlib.pyplot as plt\n",
    "%matplotlib inline\n",
    "import numpy as np\n",
    "from math import pi\n",
    "\n",
    "\n",
    "from qiskit import QuantumCircuit, ClassicalRegister, QuantumRegister\n",
    "from qiskit import BasicAer, execute\n",
    "from qiskit.quantum_info import Pauli, state_fidelity, basis_state, process_fidelity \n",
    "\n",
    "from qiskit.circuit import Parameter\n",
    "\n",
    "\n",
    "from qiskit import *\n",
    "IBMQ.load_accounts(hub=None)\n",
    "from qiskit.tools.monitor import job_monitor, backend_monitor, backend_overview\n",
    "from qiskit.providers.ibmq import least_busy\n",
    "\n",
    "from qiskit.compiler import transpile\n",
    "from qiskit.visualization import plot_histogram\n",
    "from qiskit.tools.monitor import job_monitor\n",
    "from qiskit import IBMQ\n",
    "\n",
    "#provider = IBMQ.load_accounts()"
   ]
  },
  {
   "cell_type": "code",
   "execution_count": 8,
   "metadata": {},
   "outputs": [
    {
     "data": {
      "text/plain": [
       "QasmBackendConfiguration(allow_q_object=True, backend_name='ibmq_16_melbourne', backend_version='1.0.0', basis_gates=['u1', 'u2', 'u3', 'cx', 'id'], conditional=False, coupling_map=[[1, 0], [1, 2], [2, 3], [4, 3], [4, 10], [5, 4], [5, 6], [5, 9], [6, 8], [7, 8], [9, 8], [9, 10], [11, 3], [11, 10], [11, 12], [12, 2], [13, 1], [13, 12]], credits_required=True, description='14 qubit device', gates=[GateConfig(coupling_map=[[0], [1], [2], [3], [4], [5], [6], [7], [8], [9], [10], [11], [12], [13]], name='id', parameters=[], qasm_def='gate id q { U(0,0,0) q; }'), GateConfig(coupling_map=[[0], [1], [2], [3], [4], [5], [6], [7], [8], [9], [10], [11], [12], [13]], name='u1', parameters=['lambda'], qasm_def='gate u1(lambda) q { U(0,0,lambda) q; }'), GateConfig(coupling_map=[[0], [1], [2], [3], [4], [5], [6], [7], [8], [9], [10], [11], [12], [13]], name='u2', parameters=['phi', 'lambda'], qasm_def='gate u2(phi,lambda) q { U(pi/2,phi,lambda) q; }'), GateConfig(coupling_map=[[0], [1], [2], [3], [4], [5], [6], [7], [8], [9], [10], [11], [12], [13]], name='u3', parameters=['theta', 'phi', 'lambda'], qasm_def='u3(theta,phi,lambda) q { U(theta,phi,lambda) q; }'), GateConfig(coupling_map=[[1, 0], [1, 2], [2, 3], [4, 3], [4, 10], [5, 4], [5, 6], [5, 9], [6, 8], [7, 8], [9, 8], [9, 10], [11, 3], [11, 10], [11, 12], [12, 2], [13, 1], [13, 12]], name='cx', parameters=[], qasm_def='gate cx q1,q2 { CX q1,q2; }')], local=False, max_experiments=150, max_shots=8192, memory=False, n_qubits=14, n_registers=1, online_date=datetime.datetime(2018, 11, 6, 5, 0, tzinfo=tzutc()), open_pulse=False, sample_name='albatross', simulator=False, url='None')"
      ]
     },
     "execution_count": 8,
     "metadata": {},
     "output_type": "execute_result"
    }
   ],
   "source": [
    "backend=IBMQ.get_backend('ibmq_16_melbourne')\n",
    "backend.configuration()"
   ]
  },
  {
   "cell_type": "code",
   "execution_count": 18,
   "metadata": {},
   "outputs": [
    {
     "name": "stdout",
     "output_type": "stream",
     "text": [
      "ibmq_16_melbourne\n",
      "=================\n",
      "Configuration\n",
      "-------------\n",
      "    n_qubits: 14\n",
      "    operational: True\n",
      "    status_msg: active\n",
      "    pending_jobs: 22\n",
      "    basis_gates: ['u1', 'u2', 'u3', 'cx', 'id']\n",
      "    local: False\n",
      "    simulator: False\n",
      "    conditional: False\n",
      "    online_date: 2018-11-06T05:00:00+00:00\n",
      "    max_shots: 8192\n",
      "    memory: False\n",
      "    allow_q_object: True\n",
      "    coupling_map: [[1, 0], [1, 2], [2, 3], [4, 3], [4, 10], [5, 4], [5, 6], [5, 9], [6, 8], [7, 8], [9, 8], [9, 10], [11, 3], [11, 10], [11, 12], [12, 2], [13, 1], [13, 12]]\n",
      "    backend_name: ibmq_16_melbourne\n",
      "    backend_version: 1.0.0\n",
      "    max_experiments: 150\n",
      "    open_pulse: False\n",
      "    description: 14 qubit device\n",
      "    n_registers: 1\n",
      "    credits_required: True\n",
      "    sample_name: albatross\n",
      "    url: None\n",
      "\n",
      "Qubits [Name / Freq / T1 / T2 / U1 err / U2 err / U3 err / Readout err]\n",
      "-----------------------------------------------------------------------\n",
      "    Q0 / 5.1001 GHz / 66.96498 µs / 21.75545 µs / 0.0 / 0.00137 / 0.00274 / 0.0612\n",
      "    Q1 / 5.2386 GHz / 64.05869 µs / 101.45646 µs / 0.0 / 0.0086 / 0.0172 / 0.0693\n",
      "    Q2 / 5.03261 GHz / 35.54772 µs / 59.14682 µs / 0.0 / 0.00599 / 0.01198 / 0.0853\n",
      "    Q3 / 4.89623 GHz / 21.92255 µs / 28.48784 µs / 0.0 / 0.02725 / 0.0545 / 0.1283\n",
      "    Q4 / 5.02961 GHz / 42.14128 µs / 18.80916 µs / 0.0 / 0.01592 / 0.03184 / 0.062\n",
      "    Q5 / 5.06719 GHz / 26.41854 µs / 48.50722 µs / 0.0 / 0.00212 / 0.00425 / 0.0733\n",
      "    Q6 / 4.9239 GHz / 90.89366 µs / 85.99341 µs / 0.0 / 0.001 / 0.00199 / 0.0667\n",
      "    Q7 / 4.9746 GHz / 51.10372 µs / 86.0487 µs / 0.0 / 0.00193 / 0.00387 / 0.0906\n",
      "    Q8 / 4.73956 GHz / 59.44468 µs / 90.42574 µs / 0.0 / 0.00167 / 0.00333 / 0.0499\n",
      "    Q9 / 4.96338 GHz / 50.33128 µs / 86.20842 µs / 0.0 / 0.00241 / 0.00482 / 0.0449\n",
      "    Q10 / 4.94506 GHz / 48.88182 µs / 57.0805 µs / 0.0 / 0.0018 / 0.00359 / 0.0436\n",
      "    Q11 / 5.005 GHz / 54.32814 µs / 91.86162 µs / 0.0 / 0.00217 / 0.00433 / 0.0364\n",
      "    Q12 / 4.76003 GHz / 58.28524 µs / 89.06775 µs / 0.0 / 0.00429 / 0.00858 / 0.0757\n",
      "    Q13 / 4.96848 GHz / 21.70789 µs / 35.81697 µs / 0.0 / 0.01026 / 0.02051 / 0.0558\n",
      "\n",
      "Multi-Qubit Gates [Name / Type / Gate Error]\n",
      "--------------------------------------------\n",
      "    CX1_0 / cx / 0.03399\n",
      "    CX1_2 / cx / 0.06824\n",
      "    CX2_3 / cx / 0.13604\n",
      "    CX4_3 / cx / 0.05407\n",
      "    CX4_10 / cx / 0.04615\n",
      "    CX5_4 / cx / 0.06371\n",
      "    CX5_6 / cx / 0.04395\n",
      "    CX5_9 / cx / 0.05\n",
      "    CX6_8 / cx / 0.03344\n",
      "    CX7_8 / cx / 0.03477\n",
      "    CX9_8 / cx / 0.04515\n",
      "    CX9_10 / cx / 0.05476\n",
      "    CX11_3 / cx / 0.06321\n",
      "    CX11_10 / cx / 0.0376\n",
      "    CX11_12 / cx / 0.05599\n",
      "    CX12_2 / cx / 0.07946\n",
      "    CX13_1 / cx / 0.14266\n",
      "    CX13_12 / cx / 0.04849\n"
     ]
    }
   ],
   "source": [
    "backend=IBMQ.get_backend('ibmq_16_melbourne')\n",
    "#backend.properties()\n",
    "backend_monitor(backend)"
   ]
  },
  {
   "cell_type": "code",
   "execution_count": 3,
   "metadata": {
    "scrolled": true
   },
   "outputs": [
    {
     "name": "stdout",
     "output_type": "stream",
     "text": [
      "ibmqx2\n",
      "======\n",
      "Configuration\n",
      "-------------\n",
      "    n_qubits: 5\n",
      "    operational: True\n",
      "    status_msg: active\n",
      "    pending_jobs: 5\n",
      "    basis_gates: ['u1', 'u2', 'u3', 'cx', 'id']\n",
      "    local: False\n",
      "    simulator: False\n",
      "    max_shots: 8192\n",
      "    allow_q_object: True\n",
      "    sample_name: sparrow\n",
      "    coupling_map: [[0, 1], [0, 2], [1, 2], [3, 2], [3, 4], [4, 2]]\n",
      "    backend_version: 1.0.0\n",
      "    credits_required: True\n",
      "    url: None\n",
      "    online_date: 2018-11-06T05:00:00+00:00\n",
      "    conditional: False\n",
      "    open_pulse: False\n",
      "    max_experiments: 75\n",
      "    backend_name: ibmqx2\n",
      "    n_registers: 1\n",
      "    memory: True\n",
      "    description: 5 qubit device\n",
      "\n",
      "Qubits [Name / Freq / T1 / T2 / U1 err / U2 err / U3 err / Readout err]\n",
      "-----------------------------------------------------------------------\n",
      "    Q0 / 5.28632 GHz / 60.69592 µs / 58.3036 µs / 0.0 / 0.00266 / 0.00532 / 0.02725\n",
      "    Q1 / 5.23786 GHz / 68.64414 µs / 58.89052 µs / 0.0 / 0.00163 / 0.00326 / 0.0395\n",
      "    Q2 / 5.03029 GHz / 77.38457 µs / 62.0918 µs / 0.0 / 0.00601 / 0.01203 / 0.01525\n",
      "    Q3 / 5.29607 GHz / 57.20189 µs / 31.90519 µs / 0.0 / 0.00412 / 0.00825 / 0.04125\n",
      "    Q4 / 5.08467 GHz / 54.68099 µs / 42.13224 µs / 0.0 / 0.00318 / 0.00636 / 0.0405\n",
      "\n",
      "Multi-Qubit Gates [Name / Type / Gate Error]\n",
      "--------------------------------------------\n",
      "    CX0_1 / cx / 0.03722\n",
      "    CX0_2 / cx / 0.0504\n",
      "    CX1_2 / cx / 0.04155\n",
      "    CX3_2 / cx / 0.08014\n",
      "    CX3_4 / cx / 0.03882\n",
      "    CX4_2 / cx / 0.04843\n"
     ]
    }
   ],
   "source": [
    "backend=IBMQ.get_backend('ibmqx2')\n",
    "#backend.properties()\n",
    "backend_monitor(backend)"
   ]
  },
  {
   "cell_type": "code",
   "execution_count": 3,
   "metadata": {},
   "outputs": [
    {
     "data": {
      "text/plain": [
       "BackendProperties(backend_name='ibmq_16_melbourne', backend_version='1.0.0', gates=[Gate(gate='u1', parameters=[Nduv(date=datetime.datetime(2019, 7, 30, 6, 27, 2, tzinfo=tzutc()), name='gate_error', unit='', value=0.0)], qubits=[0]), Gate(gate='u2', parameters=[Nduv(date=datetime.datetime(2019, 7, 30, 6, 27, 2, tzinfo=tzutc()), name='gate_error', unit='', value=0.001779508807116248)], qubits=[0]), Gate(gate='u3', parameters=[Nduv(date=datetime.datetime(2019, 7, 30, 6, 27, 2, tzinfo=tzutc()), name='gate_error', unit='', value=0.003559017614232496)], qubits=[0]), Gate(gate='u1', parameters=[Nduv(date=datetime.datetime(2019, 7, 30, 6, 27, 2, tzinfo=tzutc()), name='gate_error', unit='', value=0.0)], qubits=[1]), Gate(gate='u2', parameters=[Nduv(date=datetime.datetime(2019, 7, 30, 6, 27, 2, tzinfo=tzutc()), name='gate_error', unit='', value=0.006562958149317233)], qubits=[1]), Gate(gate='u3', parameters=[Nduv(date=datetime.datetime(2019, 7, 30, 6, 27, 2, tzinfo=tzutc()), name='gate_error', unit='', value=0.013125916298634466)], qubits=[1]), Gate(gate='u1', parameters=[Nduv(date=datetime.datetime(2019, 7, 30, 6, 27, 2, tzinfo=tzutc()), name='gate_error', unit='', value=0.0)], qubits=[2]), Gate(gate='u2', parameters=[Nduv(date=datetime.datetime(2019, 7, 30, 6, 27, 2, tzinfo=tzutc()), name='gate_error', unit='', value=0.005288509694702348)], qubits=[2]), Gate(gate='u3', parameters=[Nduv(date=datetime.datetime(2019, 7, 30, 6, 27, 2, tzinfo=tzutc()), name='gate_error', unit='', value=0.010577019389404696)], qubits=[2]), Gate(gate='u1', parameters=[Nduv(date=datetime.datetime(2019, 7, 30, 6, 27, 2, tzinfo=tzutc()), name='gate_error', unit='', value=0.0)], qubits=[3]), Gate(gate='u2', parameters=[Nduv(date=datetime.datetime(2019, 7, 30, 6, 27, 2, tzinfo=tzutc()), name='gate_error', unit='', value=0.009753792099614467)], qubits=[3]), Gate(gate='u3', parameters=[Nduv(date=datetime.datetime(2019, 7, 30, 6, 27, 2, tzinfo=tzutc()), name='gate_error', unit='', value=0.019507584199228933)], qubits=[3]), Gate(gate='u1', parameters=[Nduv(date=datetime.datetime(2019, 7, 30, 6, 27, 2, tzinfo=tzutc()), name='gate_error', unit='', value=0.0)], qubits=[4]), Gate(gate='u2', parameters=[Nduv(date=datetime.datetime(2019, 7, 30, 6, 27, 2, tzinfo=tzutc()), name='gate_error', unit='', value=0.0115610786243307)], qubits=[4]), Gate(gate='u3', parameters=[Nduv(date=datetime.datetime(2019, 7, 30, 6, 27, 2, tzinfo=tzutc()), name='gate_error', unit='', value=0.0231221572486614)], qubits=[4]), Gate(gate='u1', parameters=[Nduv(date=datetime.datetime(2019, 7, 30, 6, 27, 2, tzinfo=tzutc()), name='gate_error', unit='', value=0.0)], qubits=[5]), Gate(gate='u2', parameters=[Nduv(date=datetime.datetime(2019, 7, 30, 6, 27, 2, tzinfo=tzutc()), name='gate_error', unit='', value=0.0023929615881259636)], qubits=[5]), Gate(gate='u3', parameters=[Nduv(date=datetime.datetime(2019, 7, 30, 6, 27, 2, tzinfo=tzutc()), name='gate_error', unit='', value=0.004785923176251927)], qubits=[5]), Gate(gate='u1', parameters=[Nduv(date=datetime.datetime(2019, 7, 30, 6, 27, 2, tzinfo=tzutc()), name='gate_error', unit='', value=0.0)], qubits=[6]), Gate(gate='u2', parameters=[Nduv(date=datetime.datetime(2019, 7, 30, 6, 27, 2, tzinfo=tzutc()), name='gate_error', unit='', value=0.0011594474643119024)], qubits=[6]), Gate(gate='u3', parameters=[Nduv(date=datetime.datetime(2019, 7, 30, 6, 27, 2, tzinfo=tzutc()), name='gate_error', unit='', value=0.0023188949286238048)], qubits=[6]), Gate(gate='u1', parameters=[Nduv(date=datetime.datetime(2019, 7, 30, 6, 27, 2, tzinfo=tzutc()), name='gate_error', unit='', value=0.0)], qubits=[7]), Gate(gate='u2', parameters=[Nduv(date=datetime.datetime(2019, 7, 30, 6, 27, 2, tzinfo=tzutc()), name='gate_error', unit='', value=0.0025378895442895733)], qubits=[7]), Gate(gate='u3', parameters=[Nduv(date=datetime.datetime(2019, 7, 30, 6, 27, 2, tzinfo=tzutc()), name='gate_error', unit='', value=0.0050757790885791465)], qubits=[7]), Gate(gate='u1', parameters=[Nduv(date=datetime.datetime(2019, 7, 30, 6, 27, 2, tzinfo=tzutc()), name='gate_error', unit='', value=0.0)], qubits=[8]), Gate(gate='u2', parameters=[Nduv(date=datetime.datetime(2019, 7, 30, 6, 27, 2, tzinfo=tzutc()), name='gate_error', unit='', value=0.002166072731984603)], qubits=[8]), Gate(gate='u3', parameters=[Nduv(date=datetime.datetime(2019, 7, 30, 6, 27, 2, tzinfo=tzutc()), name='gate_error', unit='', value=0.004332145463969206)], qubits=[8]), Gate(gate='u1', parameters=[Nduv(date=datetime.datetime(2019, 7, 30, 6, 27, 2, tzinfo=tzutc()), name='gate_error', unit='', value=0.0)], qubits=[9]), Gate(gate='u2', parameters=[Nduv(date=datetime.datetime(2019, 7, 30, 6, 27, 2, tzinfo=tzutc()), name='gate_error', unit='', value=0.003042140821121919)], qubits=[9]), Gate(gate='u3', parameters=[Nduv(date=datetime.datetime(2019, 7, 30, 6, 27, 2, tzinfo=tzutc()), name='gate_error', unit='', value=0.006084281642243838)], qubits=[9]), Gate(gate='u1', parameters=[Nduv(date=datetime.datetime(2019, 7, 30, 6, 27, 2, tzinfo=tzutc()), name='gate_error', unit='', value=0.0)], qubits=[10]), Gate(gate='u2', parameters=[Nduv(date=datetime.datetime(2019, 7, 30, 6, 27, 2, tzinfo=tzutc()), name='gate_error', unit='', value=0.0019394324863062917)], qubits=[10]), Gate(gate='u3', parameters=[Nduv(date=datetime.datetime(2019, 7, 30, 6, 27, 2, tzinfo=tzutc()), name='gate_error', unit='', value=0.0038788649726125835)], qubits=[10]), Gate(gate='u1', parameters=[Nduv(date=datetime.datetime(2019, 7, 30, 6, 27, 2, tzinfo=tzutc()), name='gate_error', unit='', value=0.0)], qubits=[11]), Gate(gate='u2', parameters=[Nduv(date=datetime.datetime(2019, 7, 30, 6, 27, 2, tzinfo=tzutc()), name='gate_error', unit='', value=0.0021267637062820643)], qubits=[11]), Gate(gate='u3', parameters=[Nduv(date=datetime.datetime(2019, 7, 30, 6, 27, 2, tzinfo=tzutc()), name='gate_error', unit='', value=0.004253527412564129)], qubits=[11]), Gate(gate='u1', parameters=[Nduv(date=datetime.datetime(2019, 7, 30, 6, 27, 2, tzinfo=tzutc()), name='gate_error', unit='', value=0.0)], qubits=[12]), Gate(gate='u2', parameters=[Nduv(date=datetime.datetime(2019, 7, 30, 6, 27, 2, tzinfo=tzutc()), name='gate_error', unit='', value=0.0037096239464874947)], qubits=[12]), Gate(gate='u3', parameters=[Nduv(date=datetime.datetime(2019, 7, 30, 6, 27, 2, tzinfo=tzutc()), name='gate_error', unit='', value=0.007419247892974989)], qubits=[12]), Gate(gate='u1', parameters=[Nduv(date=datetime.datetime(2019, 7, 30, 6, 27, 2, tzinfo=tzutc()), name='gate_error', unit='', value=0.0)], qubits=[13]), Gate(gate='u2', parameters=[Nduv(date=datetime.datetime(2019, 7, 30, 6, 27, 2, tzinfo=tzutc()), name='gate_error', unit='', value=0.005367788321845202)], qubits=[13]), Gate(gate='u3', parameters=[Nduv(date=datetime.datetime(2019, 7, 30, 6, 27, 2, tzinfo=tzutc()), name='gate_error', unit='', value=0.010735576643690403)], qubits=[13]), Gate(gate='cx', name='CX1_0', parameters=[Nduv(date=datetime.datetime(2019, 7, 30, 7, 17, 43, tzinfo=tzutc()), name='gate_error', unit='', value=0.04084819582316496)], qubits=[1, 0]), Gate(gate='cx', name='CX1_2', parameters=[Nduv(date=datetime.datetime(2019, 7, 30, 8, 18, 14, tzinfo=tzutc()), name='gate_error', unit='', value=0.057602219137579236)], qubits=[1, 2]), Gate(gate='cx', name='CX2_3', parameters=[Nduv(date=datetime.datetime(2019, 7, 30, 7, 21, tzinfo=tzutc()), name='gate_error', unit='', value=0.09644567895198324)], qubits=[2, 3]), Gate(gate='cx', name='CX4_3', parameters=[Nduv(date=datetime.datetime(2019, 7, 20, 7, 23, 33, tzinfo=tzutc()), name='gate_error', unit='', value=0.05406808422602605)], qubits=[4, 3]), Gate(gate='cx', name='CX4_10', parameters=[Nduv(date=datetime.datetime(2019, 7, 30, 7, 27, 34, tzinfo=tzutc()), name='gate_error', unit='', value=0.0547332517302451)], qubits=[4, 10]), Gate(gate='cx', name='CX5_4', parameters=[Nduv(date=datetime.datetime(2019, 7, 30, 7, 30, 48, tzinfo=tzutc()), name='gate_error', unit='', value=0.06601975388533168)], qubits=[5, 4]), Gate(gate='cx', name='CX5_6', parameters=[Nduv(date=datetime.datetime(2019, 7, 30, 7, 34, 12, tzinfo=tzutc()), name='gate_error', unit='', value=0.05520051808972534)], qubits=[5, 6]), Gate(gate='cx', name='CX5_9', parameters=[Nduv(date=datetime.datetime(2019, 7, 30, 7, 38, 11, tzinfo=tzutc()), name='gate_error', unit='', value=0.05400892137706523)], qubits=[5, 9]), Gate(gate='cx', name='CX6_8', parameters=[Nduv(date=datetime.datetime(2019, 7, 30, 7, 41, 39, tzinfo=tzutc()), name='gate_error', unit='', value=0.04110904588847408)], qubits=[6, 8]), Gate(gate='cx', name='CX7_8', parameters=[Nduv(date=datetime.datetime(2019, 7, 30, 7, 45, 6, tzinfo=tzutc()), name='gate_error', unit='', value=0.04060328023549889)], qubits=[7, 8]), Gate(gate='cx', name='CX9_8', parameters=[Nduv(date=datetime.datetime(2019, 7, 30, 7, 48, 20, tzinfo=tzutc()), name='gate_error', unit='', value=0.04947201619621122)], qubits=[9, 8]), Gate(gate='cx', name='CX9_10', parameters=[Nduv(date=datetime.datetime(2019, 7, 30, 7, 52, 30, tzinfo=tzutc()), name='gate_error', unit='', value=0.05703422196339358)], qubits=[9, 10]), Gate(gate='cx', name='CX11_3', parameters=[Nduv(date=datetime.datetime(2019, 7, 30, 8, 2, 21, tzinfo=tzutc()), name='gate_error', unit='', value=0.0687956911558601)], qubits=[11, 3]), Gate(gate='cx', name='CX11_10', parameters=[Nduv(date=datetime.datetime(2019, 7, 30, 7, 55, 56, tzinfo=tzutc()), name='gate_error', unit='', value=0.04330709761735141)], qubits=[11, 10]), Gate(gate='cx', name='CX11_12', parameters=[Nduv(date=datetime.datetime(2019, 7, 30, 7, 59, 10, tzinfo=tzutc()), name='gate_error', unit='', value=0.05470315158112418)], qubits=[11, 12]), Gate(gate='cx', name='CX12_2', parameters=[Nduv(date=datetime.datetime(2019, 7, 30, 8, 5, 40, tzinfo=tzutc()), name='gate_error', unit='', value=0.09508536783159449)], qubits=[12, 2]), Gate(gate='cx', name='CX13_1', parameters=[Nduv(date=datetime.datetime(2019, 7, 30, 8, 10, 18, tzinfo=tzutc()), name='gate_error', unit='', value=0.22294110620766008)], qubits=[13, 1]), Gate(gate='cx', name='CX13_12', parameters=[Nduv(date=datetime.datetime(2019, 7, 30, 8, 14, 18, tzinfo=tzutc()), name='gate_error', unit='', value=0.06567979196309048)], qubits=[13, 12])], general=[], last_update_date=datetime.datetime(2019, 7, 30, 8, 18, 14, tzinfo=tzutc()), qconsole=False, qubits=[[Nduv(date=datetime.datetime(2019, 7, 30, 6, 21, 55, tzinfo=tzutc()), name='T1', unit='µs', value=54.61174859898244), Nduv(date=datetime.datetime(2019, 7, 30, 6, 23, 8, tzinfo=tzutc()), name='T2', unit='µs', value=23.800642640879218), Nduv(date=datetime.datetime(2019, 7, 30, 8, 18, 14, tzinfo=tzutc()), name='frequency', unit='GHz', value=5.100098327616471), Nduv(date=datetime.datetime(2019, 7, 30, 6, 21, 28, tzinfo=tzutc()), name='readout_error', unit='', value=0.02639999999999998)], [Nduv(date=datetime.datetime(2019, 7, 30, 6, 21, 55, tzinfo=tzutc()), name='T1', unit='µs', value=62.33232938821129), Nduv(date=datetime.datetime(2019, 7, 30, 6, 24, 8, tzinfo=tzutc()), name='T2', unit='µs', value=109.2047902538531), Nduv(date=datetime.datetime(2019, 7, 30, 8, 18, 14, tzinfo=tzutc()), name='frequency', unit='GHz', value=5.23859255399497), Nduv(date=datetime.datetime(2019, 7, 30, 6, 21, 28, tzinfo=tzutc()), name='readout_error', unit='', value=0.02849999999999997)], [Nduv(date=datetime.datetime(2019, 7, 30, 6, 21, 55, tzinfo=tzutc()), name='T1', unit='µs', value=31.78248918743079), Nduv(date=datetime.datetime(2019, 7, 30, 6, 25, 8, tzinfo=tzutc()), name='T2', unit='µs', value=49.66071194397267), Nduv(date=datetime.datetime(2019, 7, 30, 8, 18, 14, tzinfo=tzutc()), name='frequency', unit='GHz', value=5.032613920969273), Nduv(date=datetime.datetime(2019, 7, 30, 6, 21, 28, tzinfo=tzutc()), name='readout_error', unit='', value=0.08189999999999997)], [Nduv(date=datetime.datetime(2019, 7, 30, 6, 21, 55, tzinfo=tzutc()), name='T1', unit='µs', value=28.30429112525012), Nduv(date=datetime.datetime(2019, 7, 30, 6, 26, 7, tzinfo=tzutc()), name='T2', unit='µs', value=14.387883632452121), Nduv(date=datetime.datetime(2019, 7, 30, 8, 18, 14, tzinfo=tzutc()), name='frequency', unit='GHz', value=4.896228650701456), Nduv(date=datetime.datetime(2019, 7, 30, 6, 21, 28, tzinfo=tzutc()), name='readout_error', unit='', value=0.10650000000000004)], [Nduv(date=datetime.datetime(2019, 7, 30, 6, 21, 55, tzinfo=tzutc()), name='T1', unit='µs', value=43.758416120849404), Nduv(date=datetime.datetime(2019, 7, 30, 6, 23, 8, tzinfo=tzutc()), name='T2', unit='µs', value=15.793943025666156), Nduv(date=datetime.datetime(2019, 7, 30, 8, 18, 14, tzinfo=tzutc()), name='frequency', unit='GHz', value=5.029655810133552), Nduv(date=datetime.datetime(2019, 7, 30, 6, 21, 28, tzinfo=tzutc()), name='readout_error', unit='', value=0.12080000000000002)], [Nduv(date=datetime.datetime(2019, 7, 30, 6, 21, 55, tzinfo=tzutc()), name='T1', unit='µs', value=23.98215497344242), Nduv(date=datetime.datetime(2019, 7, 30, 6, 24, 8, tzinfo=tzutc()), name='T2', unit='µs', value=53.78675330434649), Nduv(date=datetime.datetime(2019, 7, 30, 8, 18, 14, tzinfo=tzutc()), name='frequency', unit='GHz', value=5.067190689834246), Nduv(date=datetime.datetime(2019, 7, 30, 6, 21, 28, tzinfo=tzutc()), name='readout_error', unit='', value=0.06899999999999995)], [Nduv(date=datetime.datetime(2019, 7, 30, 6, 21, 55, tzinfo=tzutc()), name='T1', unit='µs', value=92.94210924654365), Nduv(date=datetime.datetime(2019, 7, 30, 6, 25, 8, tzinfo=tzutc()), name='T2', unit='µs', value=85.41516310258561), Nduv(date=datetime.datetime(2019, 7, 30, 8, 18, 14, tzinfo=tzutc()), name='frequency', unit='GHz', value=4.923897142824131), Nduv(date=datetime.datetime(2019, 7, 30, 6, 21, 28, tzinfo=tzutc()), name='readout_error', unit='', value=0.03410000000000002)], [Nduv(date=datetime.datetime(2019, 7, 30, 6, 21, 55, tzinfo=tzutc()), name='T1', unit='µs', value=45.8377388416416), Nduv(date=datetime.datetime(2019, 7, 30, 6, 26, 7, tzinfo=tzutc()), name='T2', unit='µs', value=70.82173868893894), Nduv(date=datetime.datetime(2019, 7, 30, 8, 18, 14, tzinfo=tzutc()), name='frequency', unit='GHz', value=4.974599780074594), Nduv(date=datetime.datetime(2019, 7, 30, 6, 21, 28, tzinfo=tzutc()), name='readout_error', unit='', value=0.11450000000000005)], [Nduv(date=datetime.datetime(2019, 7, 30, 6, 21, 55, tzinfo=tzutc()), name='T1', unit='µs', value=57.65970438762813), Nduv(date=datetime.datetime(2019, 7, 30, 6, 23, 8, tzinfo=tzutc()), name='T2', unit='µs', value=76.71759004662265), Nduv(date=datetime.datetime(2019, 7, 30, 8, 18, 14, tzinfo=tzutc()), name='frequency', unit='GHz', value=4.739570232236068), Nduv(date=datetime.datetime(2019, 7, 30, 6, 21, 28, tzinfo=tzutc()), name='readout_error', unit='', value=0.0907)], [Nduv(date=datetime.datetime(2019, 7, 30, 6, 21, 55, tzinfo=tzutc()), name='T1', unit='µs', value=42.87624392316446), Nduv(date=datetime.datetime(2019, 7, 30, 6, 25, 8, tzinfo=tzutc()), name='T2', unit='µs', value=74.79913220870412), Nduv(date=datetime.datetime(2019, 7, 30, 8, 18, 14, tzinfo=tzutc()), name='frequency', unit='GHz', value=4.963380074656429), Nduv(date=datetime.datetime(2019, 7, 30, 6, 21, 28, tzinfo=tzutc()), name='readout_error', unit='', value=0.04620000000000002)], [Nduv(date=datetime.datetime(2019, 7, 30, 6, 21, 55, tzinfo=tzutc()), name='T1', unit='µs', value=47.60434274441669), Nduv(date=datetime.datetime(2019, 7, 30, 6, 24, 8, tzinfo=tzutc()), name='T2', unit='µs', value=58.7752961496522), Nduv(date=datetime.datetime(2019, 7, 30, 8, 18, 14, tzinfo=tzutc()), name='frequency', unit='GHz', value=4.945056863773954), Nduv(date=datetime.datetime(2019, 7, 30, 6, 21, 28, tzinfo=tzutc()), name='readout_error', unit='', value=0.04610000000000003)], [Nduv(date=datetime.datetime(2019, 7, 30, 6, 21, 55, tzinfo=tzutc()), name='T1', unit='µs', value=55.844628489252884), Nduv(date=datetime.datetime(2019, 7, 30, 6, 25, 8, tzinfo=tzutc()), name='T2', unit='µs', value=106.58708872361655), Nduv(date=datetime.datetime(2019, 7, 30, 8, 18, 14, tzinfo=tzutc()), name='frequency', unit='GHz', value=5.00499745377788), Nduv(date=datetime.datetime(2019, 7, 30, 6, 21, 28, tzinfo=tzutc()), name='readout_error', unit='', value=0.02949999999999997)], [Nduv(date=datetime.datetime(2019, 7, 30, 6, 21, 55, tzinfo=tzutc()), name='T1', unit='µs', value=52.47704590140961), Nduv(date=datetime.datetime(2019, 7, 30, 6, 24, 8, tzinfo=tzutc()), name='T2', unit='µs', value=80.61468064448852), Nduv(date=datetime.datetime(2019, 7, 30, 8, 18, 14, tzinfo=tzutc()), name='frequency', unit='GHz', value=4.760037014797261), Nduv(date=datetime.datetime(2019, 7, 30, 6, 21, 28, tzinfo=tzutc()), name='readout_error', unit='', value=0.048699999999999966)], [Nduv(date=datetime.datetime(2019, 7, 30, 6, 21, 55, tzinfo=tzutc()), name='T1', unit='µs', value=23.277062394569953), Nduv(date=datetime.datetime(2019, 7, 30, 6, 23, 8, tzinfo=tzutc()), name='T2', unit='µs', value=41.160917693246304), Nduv(date=datetime.datetime(2019, 7, 30, 8, 18, 14, tzinfo=tzutc()), name='frequency', unit='GHz', value=4.968483345775426), Nduv(date=datetime.datetime(2019, 7, 30, 6, 21, 28, tzinfo=tzutc()), name='readout_error', unit='', value=0.04289999999999994)]])"
      ]
     },
     "execution_count": 3,
     "metadata": {},
     "output_type": "execute_result"
    }
   ],
   "source": [
    "backend=IBMQ.get_backend('ibmq_16_melbourne')\n",
    "backend.properties()"
   ]
  },
  {
   "cell_type": "code",
   "execution_count": null,
   "metadata": {},
   "outputs": [],
   "source": []
  }
 ],
 "metadata": {
  "kernelspec": {
   "display_name": "Python (Qiskitenv)",
   "language": "python",
   "name": "qiskitenv"
  },
  "language_info": {
   "codemirror_mode": {
    "name": "ipython",
    "version": 3
   },
   "file_extension": ".py",
   "mimetype": "text/x-python",
   "name": "python",
   "nbconvert_exporter": "python",
   "pygments_lexer": "ipython3",
   "version": "3.6.0"
  }
 },
 "nbformat": 4,
 "nbformat_minor": 2
}
