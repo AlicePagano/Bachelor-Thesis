{
 "cells": [
  {
   "cell_type": "code",
   "execution_count": 16,
   "metadata": {},
   "outputs": [],
   "source": [
    "import cirq\n",
    "import numpy as np\n",
    "from math import pi\n",
    "#from cirq.ops import gate_operation\n",
    "from cirq.value import Duration\n",
    "\n",
    "#libraries to plot histogram\n",
    "from collections import Counter\n",
    "import numpy as np\n",
    "import matplotlib.pyplot as plt\n",
    "\n",
    "#google\n",
    "from cirq import circuits, ops, sim, study, protocols, optimizers\n",
    "from cirq.google import convert_to_xmon_gates\n",
    "from cirq import circuits, ops, sim, study, protocols\n",
    "from cirq.google import xmon_device\n",
    "\n",
    "shots=100"
   ]
  },
  {
   "cell_type": "code",
   "execution_count": 17,
   "metadata": {},
   "outputs": [
    {
     "name": "stdout",
     "output_type": "stream",
     "text": [
      "[cirq.LineQubit(0), cirq.LineQubit(1), cirq.LineQubit(2), cirq.LineQubit(3), cirq.LineQubit(4)]\n"
     ]
    }
   ],
   "source": [
    "# define the length of the grid.\n",
    "length = 5\n",
    "\n",
    "#number of qubits used\n",
    "N = 5\n",
    "\n",
    "# define qubits on the grid.\n",
    "#qubits = [cirq.GridQubit(i, j) for i in range(1) for j in range(length)] #per circuitXMON solo!\n",
    "\n",
    "qubits = cirq.LineQubit.range(N)\n",
    "\n",
    "print(qubits)"
   ]
  },
  {
   "cell_type": "code",
   "execution_count": 27,
   "metadata": {},
   "outputs": [],
   "source": [
    "def circuit(j,string):  \n",
    "       \n",
    "    circuit = cirq.Circuit()            \n",
    "    \n",
    "#    if( string == 'Noise'):\n",
    "    \n",
    "    circuit.append(cirq.H(qubits[0]))\n",
    "#    circuit.append(cirq.BitFlipChannel(0.3).on(qubits[1]))\n",
    "#    circuit.append(cirq.CNOT(qubits[0],qubits[1]))\n",
    "#    circuit.append(cirq.CNOT(qubits[1],qubits[2]))\n",
    "#    circuit.append(cirq.CNOT(qubits[2],qubits[3]))\n",
    "#    circuit.append(cirq.CNOT(qubits[3],qubits[4]))\n",
    "\n",
    "    for i in range(N-1):    \n",
    "        circuit.append(cirq.CNOT(qubits[i],qubits[i+1]))\n",
    "        \n",
    "    #insert U gate on all qubits\n",
    "    phi = (pi*j)/(N+1)\n",
    "    #A  unitary 1-qubit gate U \n",
    "    matrix=np.array([[1, 0], [0, np.exp(1.0j*phi)]])\n",
    "    # matrix=np.array([[np.exp(-1.0j*phi), 1], [1, np.exp(1.0j*phi)]])\n",
    "    moment_0 = cirq.Moment( cirq.SingleQubitMatrixGate(matrix).on(qubits[q]) for q in range(N) ) \n",
    "    # moment_0 = cirq.Moment( cirq.PhasedXPowGate().on(qubits[q]) for q in range(N) ) \n",
    "    circuit.append(moment_0)\n",
    "    \n",
    "#    circuit.append(cirq.CNOT(qubits[3],qubits[4]))\n",
    "#    circuit.append(cirq.CNOT(qubits[2],qubits[3]))\n",
    "#    circuit.append(cirq.CNOT(qubits[1],qubits[2]))\n",
    "#    circuit.append(cirq.CNOT(qubits[0],qubits[1]))\n",
    "    #circuit.append(cirq.DepolarizingChannel(0.2).on(qubits[2]))\n",
    "    \n",
    "    for i in reversed(range(N-1)):\n",
    "        circuit.append(cirq.CNOT(qubits[i],qubits[i+1]))\n",
    "    \n",
    "    circuit.append(cirq.H(qubits[0]))\n",
    "        \n",
    "    #measurement\n",
    "    circuit.append(cirq.measure(*qubits, key='x'))\n",
    "    #moment_M = cirq.Moment( [cirq.measure(qubits[q],key='{}'.format(q)) for q in range(N)] )\n",
    "    #circuit.append(moment_M)        \n",
    "\n",
    "    #print(circuit)\n",
    "        \n",
    "    return circuit"
   ]
  },
  {
   "cell_type": "code",
   "execution_count": 37,
   "metadata": {},
   "outputs": [],
   "source": [
    "def simulation(circuit,string):\n",
    "    \n",
    "    if(string == 'Noise'):\n",
    "        \n",
    "        #simulator = cirq.Simulator()\n",
    "        #results = simulator.run(circuit, repetitions=100)\n",
    "        #dens = cirq.DensityMatrixSimulator()\n",
    "        #results = dens.run(circuit, repetitions = 100)\n",
    "        results = cirq.sample(circuit, repetitions=shots) \n",
    "        #results = dens.simulate(circuit)\n",
    "        \n",
    "        h = results.histogram(key='0') \n",
    "        print(h)        \n",
    " \n",
    "    if(string == 'NoNoise'):\n",
    "        #f = open(\"counts.txt\",\"a+\")\n",
    "    \n",
    "        simulator = cirq.Simulator()\n",
    "        results = simulator.run(circuit, repetitions=shots)\n",
    "        h = results.histogram(key='x') \n",
    "        #print(h)\n",
    "        \n",
    "        #f.write('{}'.format(h[0]))\n",
    "        #f.write(',')\n",
    "        print(h[0])\n",
    "        \n",
    "        #f.close() "
   ]
  },
  {
   "cell_type": "code",
   "execution_count": 36,
   "metadata": {},
   "outputs": [],
   "source": [
    "def main (circuit):  \n",
    "    \n",
    "    for j in range(2*N+1):    # for j in range(2*N+1):\n",
    "        #print('Histogram j = {}'.format(j))\n",
    "        #simulation(circuit(j, 'Noise'), 'Noise') \n",
    "        #simulation(circuit(j, 'NoNoise'), 'NoNoise')\n",
    "        #simulationXmon(circuitXmon(j)) \n",
    "        simulation(circuit(j, 'NoNoise'), 'NoNoise')\n",
    "        \n",
    "  "
   ]
  },
  {
   "cell_type": "code",
   "execution_count": 38,
   "metadata": {},
   "outputs": [
    {
     "ename": "TypeError",
     "evalue": "main() missing 1 required positional argument: 'circuit'",
     "output_type": "error",
     "traceback": [
      "\u001b[0;31m---------------------------------------------------------------------------\u001b[0m",
      "\u001b[0;31mTypeError\u001b[0m                                 Traceback (most recent call last)",
      "\u001b[0;32m<ipython-input-38-c7bc734e5e35>\u001b[0m in \u001b[0;36m<module>\u001b[0;34m()\u001b[0m\n\u001b[1;32m      1\u001b[0m \u001b[0;32mif\u001b[0m \u001b[0m__name__\u001b[0m \u001b[0;34m==\u001b[0m \u001b[0;34m'__main__'\u001b[0m\u001b[0;34m:\u001b[0m\u001b[0;34m\u001b[0m\u001b[0;34m\u001b[0m\u001b[0m\n\u001b[0;32m----> 2\u001b[0;31m     \u001b[0mmain\u001b[0m\u001b[0;34m(\u001b[0m\u001b[0;34m)\u001b[0m\u001b[0;34m\u001b[0m\u001b[0;34m\u001b[0m\u001b[0m\n\u001b[0m",
      "\u001b[0;31mTypeError\u001b[0m: main() missing 1 required positional argument: 'circuit'"
     ]
    }
   ],
   "source": [
    "if __name__ == '__main__':\n",
    "    main()"
   ]
  },
  {
   "cell_type": "code",
   "execution_count": null,
   "metadata": {},
   "outputs": [],
   "source": []
  }
 ],
 "metadata": {
  "kernelspec": {
   "display_name": "Python 3",
   "language": "python",
   "name": "python3"
  },
  "language_info": {
   "codemirror_mode": {
    "name": "ipython",
    "version": 3
   },
   "file_extension": ".py",
   "mimetype": "text/x-python",
   "name": "python",
   "nbconvert_exporter": "python",
   "pygments_lexer": "ipython3",
   "version": "3.7.2"
  }
 },
 "nbformat": 4,
 "nbformat_minor": 2
}
