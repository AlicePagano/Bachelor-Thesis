{
 "cells": [
  {
   "cell_type": "code",
   "execution_count": 5,
   "metadata": {},
   "outputs": [],
   "source": [
    "import cirq\n",
    "import numpy as np\n",
    "from math import pi\n",
    "#from cirq.ops import gate_operation\n",
    "from cirq.value import Duration\n",
    "\n",
    "#libraries to plot histogram\n",
    "from collections import Counter\n",
    "import numpy as np\n",
    "import matplotlib.pyplot as plt\n",
    "\n",
    "#google\n",
    "from cirq import circuits, ops, sim, study, protocols, optimizers\n",
    "from cirq.google import convert_to_xmon_gates\n",
    "from cirq import circuits, ops, sim, study, protocols\n",
    "from cirq.google import xmon_device\n",
    "\n",
    "from cirq.devices import GridQubit\n",
    "\n",
    "shots=1000"
   ]
  },
  {
   "cell_type": "code",
   "execution_count": 3,
   "metadata": {},
   "outputs": [],
   "source": [
    "class Xmon10Device(cirq.Device):\n",
    "\n",
    "  def __init__(self):\n",
    "      self.qubits = [GridQubit(i, 0) for i in range(10)]\n",
    "\n",
    "  def duration_of(self, operation):\n",
    "      # Wouldn't it be nice if everything took 10ns?\n",
    "      return cirq.Duration(nanos=10)\n",
    "\n",
    "  def validate_operation(self, operation):\n",
    "      if not isinstance(operation, cirq.GateOperation):\n",
    "          raise ValueError('{!r} is not a supported operation'.format(operation))\n",
    "      if not isinstance(operation.gate, (cirq.CZPowGate,\n",
    "                                         cirq.XPowGate,\n",
    "                                         cirq.PhasedXPowGate,\n",
    "                                         cirq.YPowGate)):\n",
    "          raise ValueError('{!r} is not a supported gate'.format(operation.gate))\n",
    "      if len(operation.qubits) == 2:\n",
    "          p, q = operation.qubits\n",
    "          if not p.is_adjacent(q):\n",
    "            raise ValueError('Non-local interaction: {}'.format(repr(operation)))\n",
    "\n",
    "  def validate_scheduled_operation(self, schedule, scheduled_operation):\n",
    "      self.validate_operation(scheduled_operation.operation)\n",
    "\n",
    "  def validate_circuit(self, circuit):\n",
    "      for moment in circuit:\n",
    "          for operation in moment.operations:\n",
    "              self.validate_operation(operation)\n",
    "\n",
    "  def validate_schedule(self, schedule):\n",
    "      for scheduled_operation in schedule.scheduled_operations:\n",
    "          self.validate_scheduled_operation(schedule, scheduled_operation)"
   ]
  },
  {
   "cell_type": "code",
   "execution_count": 6,
   "metadata": {},
   "outputs": [],
   "source": [
    "device = Xmon10Device()\n",
    "circuit = cirq.Circuit()"
   ]
  },
  {
   "cell_type": "code",
   "execution_count": 7,
   "metadata": {},
   "outputs": [
    {
     "name": "stdout",
     "output_type": "stream",
     "text": [
      "(0, 0): ───@───X───\n",
      "           │\n",
      "(1, 0): ───@───────\n"
     ]
    }
   ],
   "source": [
    "circuit = cirq.Circuit()\n",
    "circuit.append([cirq.CZ(device.qubits[0], device.qubits[1]), cirq.X(device.qubits[0])])\n",
    "print(circuit)"
   ]
  },
  {
   "cell_type": "code",
   "execution_count": 8,
   "metadata": {},
   "outputs": [],
   "source": [
    "schedule = cirq.moment_by_moment_schedule(device, circuit)"
   ]
  },
  {
   "cell_type": "code",
   "execution_count": 17,
   "metadata": {},
   "outputs": [
    {
     "name": "stdout",
     "output_type": "stream",
     "text": [
      "[ScheduledOperation(cirq.Timestamp(picos=0), cirq.Duration(picos=10000), cirq.CZ.on(cirq.GridQubit(0, 0), cirq.GridQubit(1, 0)))]\n"
     ]
    }
   ],
   "source": [
    "print(schedule[cirq.Timestamp(nanos=5)]) #the key is the star time of the Sorted Operation"
   ]
  },
  {
   "cell_type": "code",
   "execution_count": 20,
   "metadata": {},
   "outputs": [
    {
     "name": "stdout",
     "output_type": "stream",
     "text": [
      "True\n"
     ]
    }
   ],
   "source": [
    "slice = schedule[cirq.Timestamp(nanos=5):cirq.Timestamp(nanos=15)] #a start and end time\n",
    "slice_schedule = cirq.Schedule(device, slice)\n",
    "print(slice_schedule == schedule)"
   ]
  },
  {
   "cell_type": "code",
   "execution_count": 21,
   "metadata": {},
   "outputs": [
    {
     "ename": "NameError",
     "evalue": "name 'sim_test' is not defined",
     "output_type": "error",
     "traceback": [
      "\u001b[0;31m---------------------------------------------------------------------------\u001b[0m",
      "\u001b[0;31mNameError\u001b[0m                                 Traceback (most recent call last)",
      "\u001b[0;32m<ipython-input-21-50c343f01a13>\u001b[0m in \u001b[0;36m<module>\u001b[0;34m()\u001b[0m\n\u001b[1;32m      7\u001b[0m \u001b[0;34m\u001b[0m\u001b[0m\n\u001b[1;32m      8\u001b[0m \u001b[0;31m# do the timing test\u001b[0m\u001b[0;34m\u001b[0m\u001b[0;34m\u001b[0m\u001b[0;34m\u001b[0m\u001b[0m\n\u001b[0;32m----> 9\u001b[0;31m \u001b[0mtime\u001b[0m \u001b[0;34m=\u001b[0m \u001b[0msim_test\u001b[0m\u001b[0;34m(\u001b[0m\u001b[0mnqubits\u001b[0m\u001b[0;34m,\u001b[0m \u001b[0mdepth\u001b[0m\u001b[0;34m,\u001b[0m \u001b[0mnreps\u001b[0m\u001b[0;34m,\u001b[0m \u001b[0mverbose\u001b[0m\u001b[0;34m=\u001b[0m\u001b[0mverbose\u001b[0m\u001b[0;34m)\u001b[0m\u001b[0;34m\u001b[0m\u001b[0;34m\u001b[0m\u001b[0m\n\u001b[0m\u001b[1;32m     10\u001b[0m \u001b[0;34m\u001b[0m\u001b[0m\n\u001b[1;32m     11\u001b[0m \u001b[0;31m# display the output\u001b[0m\u001b[0;34m\u001b[0m\u001b[0;34m\u001b[0m\u001b[0;34m\u001b[0m\u001b[0m\n",
      "\u001b[0;31mNameError\u001b[0m: name 'sim_test' is not defined"
     ]
    }
   ],
   "source": [
    "\"\"\"Simulator performance test for a larger circuit.\"\"\"\n",
    "# inputs to sim_test\n",
    "nqubits = 20        # number of qubits\n",
    "depth = 10          # depth of circuit\n",
    "nreps = 1           # number of repetitions\n",
    "verbose=False       # verbose output (prints circuit)\n",
    "\n",
    "# do the timing test\n",
    "time = sim_test(nqubits, depth, nreps, verbose=verbose)\n",
    "\n",
    "# display the output\n",
    "print(\"\\nIt took %0.2f seconds to run the circuit.\" % time)"
   ]
  },
  {
   "cell_type": "code",
   "execution_count": null,
   "metadata": {},
   "outputs": [],
   "source": []
  }
 ],
 "metadata": {
  "kernelspec": {
   "display_name": "Python 3",
   "language": "python",
   "name": "python3"
  },
  "language_info": {
   "codemirror_mode": {
    "name": "ipython",
    "version": 3
   },
   "file_extension": ".py",
   "mimetype": "text/x-python",
   "name": "python",
   "nbconvert_exporter": "python",
   "pygments_lexer": "ipython3",
   "version": "3.7.2"
  }
 },
 "nbformat": 4,
 "nbformat_minor": 2
}
