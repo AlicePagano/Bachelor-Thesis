{
 "cells": [
  {
   "cell_type": "code",
   "execution_count": 1,
   "metadata": {},
   "outputs": [],
   "source": [
    "\"\"\"Make a quantum circuit whose device is the\n",
    "22 qubit Foxtail quantum computer.\n",
    "\"\"\"\n",
    "import cirq\n",
    "import numpy as np\n",
    "from math import pi\n",
    "#from cirq.ops import gate_operation\n",
    "from cirq.value import Duration\n",
    "\n",
    "#libraries to plot histogram\n",
    "from collections import Counter\n",
    "import numpy as np\n",
    "import matplotlib.pyplot as plt\n",
    "\n",
    "#google\n",
    "from cirq import circuits, ops, sim, study, protocols, optimizers\n",
    "from cirq.google import convert_to_xmon_gates\n",
    "from cirq import circuits, ops, sim, study, protocols\n",
    "from cirq.google import xmon_device\n",
    "\n",
    "from cirq.devices import GridQubit\n",
    "\n",
    "shots=1000\n",
    "# grab the device\n",
    "foxtail = cirq.google.Foxtail\n",
    "\n",
    "# get the qubits of foxtail\n",
    "qubits = sorted(list(foxtail.qubits))\n",
    "\n",
    "# make a circuit and set foxtail to be its device\n",
    "circ = cirq.Circuit(device=foxtail)\n",
    "\n",
    "N=2"
   ]
  },
  {
   "cell_type": "code",
   "execution_count": null,
   "metadata": {},
   "outputs": [],
   "source": [
    "\"\"\"Print out the architecture of the FoxTail quantum computer.\"\"\"\n",
    "s = \"FoxTail has {} qubits arranged as follows:\\n\"\n",
    "print(s.format(len(cirq.google.Foxtail.qubits)))\n",
    "print(cirq.google.Foxtail)\n",
    "#implement a Controlled-Z gate\n",
    "\n"
   ]
  },
  {
   "cell_type": "code",
   "execution_count": 13,
   "metadata": {},
   "outputs": [
    {
     "ename": "AttributeError",
     "evalue": "module 'cirq' has no attribute 'Symbol'",
     "output_type": "error",
     "traceback": [
      "\u001b[0;31m---------------------------------------------------------------------------\u001b[0m",
      "\u001b[0;31mAttributeError\u001b[0m                            Traceback (most recent call last)",
      "\u001b[0;32m<ipython-input-13-89bc3acd3b29>\u001b[0m in \u001b[0;36m<module>\u001b[0;34m()\u001b[0m\n\u001b[1;32m      8\u001b[0m \u001b[0mcx_1_2\u001b[0m \u001b[0;34m=\u001b[0m \u001b[0mcirq\u001b[0m\u001b[0;34m.\u001b[0m\u001b[0mCNOT\u001b[0m\u001b[0;34m(\u001b[0m\u001b[0mqubits\u001b[0m\u001b[0;34m[\u001b[0m\u001b[0;36m1\u001b[0m\u001b[0;34m]\u001b[0m\u001b[0;34m,\u001b[0m\u001b[0mqubits\u001b[0m\u001b[0;34m[\u001b[0m\u001b[0;36m2\u001b[0m\u001b[0;34m]\u001b[0m\u001b[0;34m)\u001b[0m\u001b[0;34m\u001b[0m\u001b[0;34m\u001b[0m\u001b[0m\n\u001b[1;32m      9\u001b[0m \u001b[0;34m\u001b[0m\u001b[0m\n\u001b[0;32m---> 10\u001b[0;31m \u001b[0msym\u001b[0m \u001b[0;34m=\u001b[0m \u001b[0mcirq\u001b[0m\u001b[0;34m.\u001b[0m\u001b[0mSymbol\u001b[0m\u001b[0;34m(\u001b[0m\u001b[0;34m\"j\"\u001b[0m\u001b[0;34m)\u001b[0m\u001b[0;34m\u001b[0m\u001b[0;34m\u001b[0m\u001b[0m\n\u001b[0m\u001b[1;32m     11\u001b[0m \u001b[0mphi\u001b[0m \u001b[0;34m=\u001b[0m \u001b[0;34m(\u001b[0m\u001b[0mpi\u001b[0m\u001b[0;34m*\u001b[0m\u001b[0msym\u001b[0m\u001b[0;34m)\u001b[0m\u001b[0;34m/\u001b[0m\u001b[0;34m(\u001b[0m\u001b[0mN\u001b[0m\u001b[0;34m+\u001b[0m\u001b[0;36m1\u001b[0m\u001b[0;34m)\u001b[0m\u001b[0;34m\u001b[0m\u001b[0;34m\u001b[0m\u001b[0m\n\u001b[1;32m     12\u001b[0m \u001b[0mmatrix\u001b[0m\u001b[0;34m=\u001b[0m\u001b[0mnp\u001b[0m\u001b[0;34m.\u001b[0m\u001b[0marray\u001b[0m\u001b[0;34m(\u001b[0m\u001b[0;34m[\u001b[0m\u001b[0;34m[\u001b[0m\u001b[0;36m1\u001b[0m\u001b[0;34m,\u001b[0m \u001b[0;36m0\u001b[0m\u001b[0;34m]\u001b[0m\u001b[0;34m,\u001b[0m \u001b[0;34m[\u001b[0m\u001b[0;36m0\u001b[0m\u001b[0;34m,\u001b[0m \u001b[0mnp\u001b[0m\u001b[0;34m.\u001b[0m\u001b[0mexp\u001b[0m\u001b[0;34m(\u001b[0m\u001b[0;36m1.0j\u001b[0m\u001b[0;34m*\u001b[0m\u001b[0mphi\u001b[0m\u001b[0;34m)\u001b[0m\u001b[0;34m]\u001b[0m\u001b[0;34m]\u001b[0m\u001b[0;34m)\u001b[0m\u001b[0;34m\u001b[0m\u001b[0;34m\u001b[0m\u001b[0m\n",
      "\u001b[0;31mAttributeError\u001b[0m: module 'cirq' has no attribute 'Symbol'"
     ]
    }
   ],
   "source": [
    "\"\"\"Compile/decompose operations into the native gate set of Foxtail.\"\"\"\n",
    "options = cirq.google.sim.XmonOptions(num_shards=2)\n",
    "simulator = cirq.google.XmonSimulator(options)\n",
    "\n",
    "# get the hadamard gate\n",
    "hgate = cirq.H(qubits[0])   \n",
    "cx_0_1 = cirq.CNOT(qubits[0],qubits[1])\n",
    "cx_1_2 = cirq.CNOT(qubits[1],qubits[2])\n",
    "\n",
    "sym = cirq.Symbol(\"j\")\n",
    "phi = (pi*sym)/(N+1)\n",
    "matrix=np.array([[1, 0], [0, np.exp(1.0j*phi)]])\n",
    "\n",
    "cirq.single_qubit_matrix_to_pauli_rotations(matrix)\n",
    "\n",
    "# compile/decompose the gate into native operations\n",
    "compiled_hgate = foxtail.decompose_operation(hgate)\n",
    "compiled_cx_0_1gate = foxtail.decompose_operation(cx_0_1)\n",
    "compiled_cx_1_2gate = foxtail.decompose_operation(cx_1_2)\n",
    "\n",
    "# print out the gate and its compilation\n",
    "print(hgate, \"=\", *compiled_hgate)\n",
    "print(cx_0_1, \"=\", *compiled_cx_0_1gate)\n",
    "print(cx_1_2, \"=\", *compiled_cx_1_2gate)\n",
    "\n",
    "circ.append(hgate)\n",
    "circ.append(cx_0_1)\n",
    "circ.append(cx_1_2)\n",
    "\n",
    "# print the circuit\n",
    "print(circ)"
   ]
  },
  {
   "cell_type": "code",
   "execution_count": 3,
   "metadata": {},
   "outputs": [
    {
     "name": "stdout",
     "output_type": "stream",
     "text": [
      "-0.71j|000⟩ - 0.71j|111⟩\n"
     ]
    }
   ],
   "source": [
    "res = simulator.simulate(circ)\n",
    "print(res.dirac_notation())"
   ]
  },
  {
   "cell_type": "code",
   "execution_count": 4,
   "metadata": {},
   "outputs": [
    {
     "name": "stdout",
     "output_type": "stream",
     "text": [
      "(0, 0): ───Y^-0.5────Z────────Z^0.75───X^0.5───S^-1───Y^-0.5───@───S^-1───Y^0.5───Y^0.5─────Z^-0.75───Y^-0.5───Z──────Z^0.75───X^0.5───S^-1───Y^-0.5──────────────────────────────────────────@───S^-1───Y^0.5───Y^0.5─────Z^-0.75──────────────────────────────────────────────────────────────────\n",
      "                                                               │                                                                                                                              │\n",
      "(0, 1): ───X^-0.25───Y^-0.5────────────────────────────────────@───S^-1───Y^0.5───X^-0.25───Z^0.75────X^0.5────S^-1───Y^-0.5───@───────S^-1───Y^0.5────Y^0.5─────Z^-0.75───X^-0.25───Y^-0.5───@───S^-1───Y^0.5───X^-0.25───Z^0.75────X^0.5───S^-1───Y^-0.5───@───S^-1───Y^0.5───Y^0.5─────Z^-0.75───\n",
      "                                                                                                                               │                                                                                                                             │\n",
      "(0, 2): ───X^-0.25───Y^-0.5────────────────────────────────────────────────────────────────────────────────────────────────────@───────S^-1───Y^0.5────X^-0.25───X^-0.25───Y^-0.5────────────────────────────────────────────────────────────────────────────@───S^-1───Y^0.5───X^-0.25─────────────\n",
      "-0.5|000⟩ - 0.5|010⟩ + 0.5|101⟩ - 0.5|111⟩\n"
     ]
    }
   ],
   "source": [
    "options = cirq.google.sim.XmonOptions(num_shards=2)\n",
    "simulator = cirq.google.XmonSimulator(options)\n",
    "\n",
    "# get the hadamard gate\n",
    "hgate = cirq.H(qubits[0])   \n",
    "cx_0_1 = cirq.CNOT(qubits[0],qubits[1])\n",
    "cx_1_2 = cirq.CNOT(qubits[1],qubits[2])\n",
    "\n",
    "circ.append(hgate)\n",
    "circ.append(cx_0_1)\n",
    "circ.append(cx_1_2)\n",
    "\n",
    "# print the circuit\n",
    "print(circ)\n",
    "\n",
    "res = simulator.simulate(circ)\n",
    "print(res.dirac_notation())"
   ]
  },
  {
   "cell_type": "code",
   "execution_count": null,
   "metadata": {},
   "outputs": [],
   "source": [
    "\"\"\"Attempt to optimize the circuit. Only commutes\n",
    "Z across CZ for a single Bell state preparation circuit, \n",
    "simplifies two sequential Bell state preparation circuits. \n",
    "(Run the cell above twice to see this.)\n",
    "\"\"\"\n",
    "ejectPaulis = cirq.optimizers.EjectPhasedPaulis()\n",
    "ejectZ = cirq.optimizers.EjectZ()\n",
    "ejectZ.optimize_circuit(circ)\n",
    "\n",
    "ejectPaulis.optimize_circuit(circ)\n",
    "drop_neg = cirq.optimizers.DropNegligible()\n",
    "drop_neg.optimize_circuit(circ)\n",
    "cirq.merge_single_qubit_gates_into_phased_x_z(circ)\n",
    "\n",
    "print(circ)\n",
    "\n",
    "res = simulator.simulate(circ)\n",
    "print(res.dirac_notation())"
   ]
  },
  {
   "cell_type": "code",
   "execution_count": 8,
   "metadata": {},
   "outputs": [
    {
     "name": "stdout",
     "output_type": "stream",
     "text": [
      "Y time = 20.0 nanoseconds.\n",
      "Z time = 0.0 nanoseconds.\n",
      "CZ time = 50.0 nanoseconds.\n"
     ]
    }
   ],
   "source": [
    "\"\"\"See how long each native operation takes to implement.\"\"\"\n",
    "# grab the times of some native gates\n",
    "ytime = foxtail.duration_of(cirq.Y(qubits[0]))\n",
    "ztime = foxtail.duration_of(cirq.Z(qubits[0]))\n",
    "cztime = foxtail.duration_of(cirq.CZ(qubits[0], qubits[1]))\n",
    "\n",
    "# print them out\n",
    "print(\"Y time =\", ytime.total_nanos(), \"nanoseconds.\")\n",
    "print(\"Z time =\", ztime.total_nanos(), \"nanoseconds.\")\n",
    "print(\"CZ time =\", cztime.total_nanos(), \"nanoseconds.\")"
   ]
  },
  {
   "cell_type": "code",
   "execution_count": null,
   "metadata": {},
   "outputs": [],
   "source": [
    "ejectPaulis.optimize_circuit(circ)\n",
    "print(circ)"
   ]
  },
  {
   "cell_type": "code",
   "execution_count": null,
   "metadata": {},
   "outputs": [],
   "source": []
  }
 ],
 "metadata": {
  "kernelspec": {
   "display_name": "Python 3",
   "language": "python",
   "name": "python3"
  },
  "language_info": {
   "codemirror_mode": {
    "name": "ipython",
    "version": 3
   },
   "file_extension": ".py",
   "mimetype": "text/x-python",
   "name": "python",
   "nbconvert_exporter": "python",
   "pygments_lexer": "ipython3",
   "version": "3.7.2"
  }
 },
 "nbformat": 4,
 "nbformat_minor": 2
}
