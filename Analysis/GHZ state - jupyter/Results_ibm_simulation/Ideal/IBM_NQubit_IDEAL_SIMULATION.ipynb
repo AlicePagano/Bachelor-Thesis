{
 "cells": [
  {
   "cell_type": "code",
   "execution_count": 1,
   "metadata": {},
   "outputs": [],
   "source": [
    "# Useful additional packages \n",
    "import matplotlib.pyplot as plt\n",
    "%matplotlib inline\n",
    "import numpy as np\n",
    "from math import pi\n",
    "\n",
    "\n",
    "from qiskit import QuantumCircuit, ClassicalRegister, QuantumRegister\n",
    "from qiskit import BasicAer, execute\n",
    "from qiskit.quantum_info import Pauli, state_fidelity, basis_state, process_fidelity \n",
    "\n",
    "from qiskit.circuit import Parameter\n",
    "\n",
    "\n",
    "from qiskit import *\n",
    "IBMQ.load_accounts(hub=None)\n",
    "from qiskit.tools.monitor import job_monitor, backend_monitor, backend_overview\n",
    "from qiskit.providers.ibmq import least_busy\n",
    "\n",
    "shots = 8192 \n",
    "max_credits = 3 \n",
    "#job_exp = execute(qc, backend=backend, shots=shots, max_credits=max_credits)\n",
    "from qiskit.compiler import transpile"
   ]
  },
  {
   "cell_type": "code",
   "execution_count": 19,
   "metadata": {},
   "outputs": [
    {
     "name": "stdout",
     "output_type": "stream",
     "text": [
      "Circuit depth\n",
      "14\n",
      "\n",
      "\n",
      "Counts\n",
      "\n",
      "\n",
      "Counts of 00\n",
      "[1.0, 0.05078125, 0.81103515625, 0.3846435546875, 0.3818359375, 0.8150634765625, 0.0504150390625, 1.0, 0.0479736328125, 0.8045654296875, 0.39599609375, 0.388671875, 0.80908203125, 0.0484619140625]\n"
     ]
    }
   ],
   "source": [
    "#Simulation\n",
    "#Misura di tutti i qubit\n",
    "n=6\n",
    "q = QuantumRegister(n, 'q')\n",
    "c = ClassicalRegister(n, 'c') #n\n",
    "\n",
    "circ = QuantumCircuit(q,c)\n",
    "phi = Parameter('phi')\n",
    "\n",
    "circ.h(q[0])\n",
    "\n",
    "for i in range(n-1):\n",
    "    circ.cx(i, i+1)\n",
    "    \n",
    "circ.barrier()\n",
    "circ.rz(phi, range(n))\n",
    "circ.barrier()\n",
    "\n",
    "for i in reversed(range(n-1)):\n",
    "    circ.cx(i, i+1)\n",
    "\n",
    "circ.h(q[0])\n",
    "\n",
    "circ.barrier()\n",
    "\n",
    "for i in range(n):\n",
    "    circ.measure(q[i], c[i])\n",
    "    \n",
    "\n",
    "\n",
    "#circ.draw(output='mpl')\n",
    "\n",
    "#print('Phi range')\n",
    "phi_range = [np.pi*j/(n+1) for j in range(2*n+1+1)]\n",
    "#print(phi_range)\n",
    "circuits = [circ.bind_parameters({phi: phi_val}) for phi_val in phi_range] \n",
    "#print(circuits[-1].parameters)\n",
    "#circuits[-1].draw(output='mpl')\n",
    "\n",
    "#circuits[1].draw()\n",
    "\n",
    "print('Circuit depth')\n",
    "print(circ.depth())\n",
    "\n",
    "job = execute(circ,\n",
    "            backend=BasicAer.get_backend('qasm_simulator'),\n",
    "            parameter_binds=[{phi: phi_val}\n",
    "              for phi_val in phi_range],shots=shots)\n",
    "\n",
    "phi_range = phi_range\n",
    "counts =[job.result().get_counts(i) for i in range(len(job.result().results))] \n",
    "\n",
    "print('\\n')\n",
    "print('Counts')\n",
    "#print(counts)\n",
    "print('\\n')\n",
    "print('Counts of 00')\n",
    "print(list(map(lambda c: 1/shots*c.get('000000', 0), counts)))\n"
   ]
  },
  {
   "cell_type": "code",
   "execution_count": null,
   "metadata": {},
   "outputs": [],
   "source": []
  }
 ],
 "metadata": {
  "kernelspec": {
   "display_name": "Python (Qiskitenv)",
   "language": "python",
   "name": "qiskitenv"
  },
  "language_info": {
   "codemirror_mode": {
    "name": "ipython",
    "version": 3
   },
   "file_extension": ".py",
   "mimetype": "text/x-python",
   "name": "python",
   "nbconvert_exporter": "python",
   "pygments_lexer": "ipython3",
   "version": "3.6.0"
  }
 },
 "nbformat": 4,
 "nbformat_minor": 2
}
