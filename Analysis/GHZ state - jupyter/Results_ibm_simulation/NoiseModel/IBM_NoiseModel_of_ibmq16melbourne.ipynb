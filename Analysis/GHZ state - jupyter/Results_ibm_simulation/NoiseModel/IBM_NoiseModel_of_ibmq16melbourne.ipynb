{
 "cells": [
  {
   "cell_type": "code",
   "execution_count": 1,
   "metadata": {},
   "outputs": [
    {
     "name": "stderr",
     "output_type": "stream",
     "text": [
      "/Users/alicepagano/anaconda3/envs/Qiskitenv/lib/python3.6/site-packages/qiskit/providers/ibmq/ibmqprovider.py:272: UserWarning: Credentials are already in use.\n",
      "  warnings.warn('Credentials are already in use.')\n"
     ]
    }
   ],
   "source": [
    "import numpy as np\n",
    "from qiskit import Aer, IBMQ, execute\n",
    "from qiskit.providers.aer import noise\n",
    "from qiskit import QuantumCircuit, QuantumRegister, ClassicalRegister\n",
    "from qiskit.tools.visualization import plot_histogram\n",
    "from qiskit.tools.monitor import job_monitor\n",
    "from qiskit.circuit import Parameter\n",
    "from qiskit import *\n",
    "IBMQ.load_accounts(hub=None)\n",
    "from qiskit.tools.monitor import job_monitor, backend_monitor, backend_overview\n",
    "from qiskit.providers.ibmq import least_busy\n",
    "\n",
    "from qiskit.compiler import transpile\n",
    "from qiskit.visualization import plot_histogram\n",
    "from qiskit.tools.monitor import job_monitor\n",
    "from qiskit import IBMQ\n",
    "\n",
    "from qiskit import *\n",
    "IBMQ.load_accounts(hub=None)\n",
    "from qiskit.tools.monitor import job_monitor, backend_monitor, backend_overview\n",
    "from qiskit.providers.ibmq import least_busy\n",
    "\n",
    "from qiskit.compiler import transpile\n",
    "from qiskit.visualization import plot_histogram\n",
    "from qiskit.tools.monitor import job_monitor\n",
    "from qiskit import IBMQ\n",
    "\n",
    "# Load IBMQ account\n",
    "device = IBMQ.get_backend('ibmq_16_melbourne')\n",
    "# Select the QasmSimulator from the Aer provider\n",
    "simulator = Aer.get_backend('qasm_simulator')\n",
    "\n",
    "properties = device.properties()\n",
    "coupling_map = device.configuration().coupling_map\n",
    "\n",
    "shots = 8192 \n",
    "max_credits = 3 \n"
   ]
  },
  {
   "cell_type": "code",
   "execution_count": 2,
   "metadata": {},
   "outputs": [
    {
     "name": "stdout",
     "output_type": "stream",
     "text": [
      "NoiseModel:\n",
      "  Basis gates: ['cx', 'id', 'u2', 'u3']\n",
      "  Instructions with noise: ['u2', 'measure', 'u3', 'cx']\n",
      "  Qubits with noise: [0, 1, 2, 3, 4, 5, 6, 7, 8, 9, 10, 11, 12, 13]\n",
      "  Specific qubit errors: [('u2', [0]), ('u2', [1]), ('u2', [2]), ('u2', [3]), ('u2', [4]), ('u2', [5]), ('u2', [6]), ('u2', [7]), ('u2', [8]), ('u2', [9]), ('u2', [10]), ('u2', [11]), ('u2', [12]), ('u2', [13]), ('u3', [0]), ('u3', [1]), ('u3', [2]), ('u3', [3]), ('u3', [4]), ('u3', [5]), ('u3', [6]), ('u3', [7]), ('u3', [8]), ('u3', [9]), ('u3', [10]), ('u3', [11]), ('u3', [12]), ('u3', [13]), ('cx', [1, 0]), ('cx', [1, 2]), ('cx', [2, 3]), ('cx', [4, 3]), ('cx', [4, 10]), ('cx', [5, 4]), ('cx', [5, 6]), ('cx', [5, 9]), ('cx', [6, 8]), ('cx', [7, 8]), ('cx', [9, 8]), ('cx', [9, 10]), ('cx', [11, 3]), ('cx', [11, 10]), ('cx', [11, 12]), ('cx', [12, 2]), ('cx', [13, 1]), ('cx', [13, 12]), ('measure', [0]), ('measure', [1]), ('measure', [2]), ('measure', [3]), ('measure', [4]), ('measure', [5]), ('measure', [6]), ('measure', [7]), ('measure', [8]), ('measure', [9]), ('measure', [10]), ('measure', [11]), ('measure', [12]), ('measure', [13])]\n"
     ]
    }
   ],
   "source": [
    "# List of gate times for ibmq_14_melbourne device\n",
    "# Note that the None parameter for u1, u2, u3 is because gate\n",
    "# times are the same for all qubits\n",
    "\n",
    "device = IBMQ.get_backend('ibmq_16_melbourne')\n",
    "properties = device.properties()\n",
    "gate_times = [\n",
    "    ('u1', None, 0), ('u2', None, 100), ('u3', None, 200),\n",
    "    ('cx', [1, 0], 678), ('cx', [1, 2], 547), ('cx', [2, 3], 721),\n",
    "    ('cx', [4, 3], 733), ('cx', [4, 10], 721), ('cx', [5, 4], 800),\n",
    "    ('cx', [5, 6], 800), ('cx', [5, 9], 895), ('cx', [6, 8], 895),\n",
    "    ('cx', [7, 8], 640), ('cx', [9, 8], 895), ('cx', [9, 10], 800),\n",
    "    ('cx', [11, 10], 721), ('cx', [11, 3], 634), ('cx', [12, 2], 773),\n",
    "    ('cx', [13, 1], 2286), ('cx', [13, 12], 1504), ('cx', [], 800)]\n",
    "\n",
    "# Construct the noise model from backend properties and custom gate times\n",
    "noise_model = noise.device.basic_device_noise_model(properties, gate_times=gate_times)\n",
    "print(noise_model)"
   ]
  },
  {
   "cell_type": "code",
   "execution_count": 14,
   "metadata": {},
   "outputs": [
    {
     "name": "stdout",
     "output_type": "stream",
     "text": [
      "circ depth\n",
      "18\n",
      "Counts of 000\n",
      "[0.2681884765625, 0.117431640625, 0.246337890625, 0.15478515625, 0.1865234375, 0.197509765625, 0.1502685546875, 0.241943359375, 0.1124267578125, 0.26904296875, 0.116943359375, 0.24462890625, 0.15234375, 0.195068359375, 0.1942138671875, 0.1490478515625, 0.236328125, 0.115234375]\n"
     ]
    }
   ],
   "source": [
    "# System Specification\n",
    "n = 8\n",
    "# System Specification\n",
    "q = QuantumRegister(n, 'q')\n",
    "c = ClassicalRegister(n, 'c') #n\n",
    "circ = QuantumCircuit(q,c)\n",
    "phi = Parameter('phi')\n",
    "# Test Circuit\n",
    "circ.h(q[0])\n",
    "for i in range(n-1):\n",
    "    circ.cx(i, i+1)  \n",
    "circ.barrier()\n",
    "circ.rz(phi, range(n))\n",
    "circ.barrier()\n",
    "for i in reversed(range(n-1)):\n",
    "    circ.cx(i, i+1)\n",
    "circ.h(q[0])\n",
    "circ.barrier()\n",
    "for i in range(n):\n",
    "    circ.measure(q[i], c[i]) \n",
    "#circ.draw(output='mpl')\n",
    "#print('Phi range')\n",
    "phi_range = [np.pi*j/(n+1) for j in range(2*n+1+1)]\n",
    "#print(phi_range)\n",
    "circuits = [circ.bind_parameters({phi: phi_val}) for phi_val in phi_range] \n",
    "\n",
    "\n",
    "# Get the basis gates for the noise model\n",
    "basis_gates = noise_model.basis_gates\n",
    "\n",
    "\n",
    "job = execute(circ, backend=simulator,\n",
    "              basis_gates=basis_gates,\n",
    "              coupling_map=coupling_map,\n",
    "              noise_model=noise_model, parameter_binds=[{phi: phi_val} for phi_val in phi_range],shots=shots )\n",
    "\n",
    "result_noise = job.result()\n",
    "\n",
    "counts_noise =[job.result().get_counts(i) for i in range(len(job.result().results))] \n",
    "\n",
    "print('circ depth')\n",
    "print(circ.depth())\n",
    "#print('Counts')\n",
    "#print(counts_noise)\n",
    "print('Counts of 000')\n",
    "print(list(map(lambda c: 1/shots*c.get('00000000', 0), counts_noise)))\n"
   ]
  },
  {
   "cell_type": "code",
   "execution_count": null,
   "metadata": {},
   "outputs": [],
   "source": [
    "# Ideal execution\n",
    "job = execute(circ,backend=simulator, parameter_binds=[{phi: phi_val} for phi_val in phi_range],shots=shots)\n",
    "\n",
    "result_ideal = job.result()\n",
    "\n",
    "counts_ideal =[job.result().get_counts(i) for i in range(len(job.result().results))] \n",
    "\n",
    "print('Counts')\n",
    "print(counts_ideal)\n",
    "print('Counts of 000')\n",
    "print(list(map(lambda c: 1/shots*c.get('000', 0), counts_ideal)))\n",
    "\n"
   ]
  },
  {
   "cell_type": "code",
   "execution_count": null,
   "metadata": {},
   "outputs": [],
   "source": []
  }
 ],
 "metadata": {
  "kernelspec": {
   "display_name": "Python (Qiskitenv)",
   "language": "python",
   "name": "qiskitenv"
  },
  "language_info": {
   "codemirror_mode": {
    "name": "ipython",
    "version": 3
   },
   "file_extension": ".py",
   "mimetype": "text/x-python",
   "name": "python",
   "nbconvert_exporter": "python",
   "pygments_lexer": "ipython3",
   "version": "3.6.0"
  }
 },
 "nbformat": 4,
 "nbformat_minor": 2
}
